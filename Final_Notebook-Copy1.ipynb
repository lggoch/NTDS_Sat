{
 "cells": [
  {
   "cell_type": "markdown",
   "metadata": {},
   "source": [
    "# Satellites Characterization\n",
    "** EE-558, A Network Tour of Data Science ** <br>\n",
    "** Lucas Gauchoux, Laurier Loiselle, Antoine Weber **"
   ]
  },
  {
   "cell_type": "markdown",
   "metadata": {},
   "source": [
    "# 0. Abstract"
   ]
  },
  {
   "cell_type": "markdown",
   "metadata": {},
   "source": [
    "# 1. Imports, global names and helper functions"
   ]
  },
  {
   "cell_type": "code",
   "execution_count": 4,
   "metadata": {},
   "outputs": [],
   "source": [
    "%matplotlib inline\n",
    "\n",
    "from helpers import *\n",
    "import numpy as np\n",
    "import pandas as pd\n",
    "import scipy.sparse.linalg\n",
    "import matplotlib.pyplot as plt\n",
    "from pygsp import graphs, filters, plotting\n",
    "from numpy import pi\n",
    "import ephem\n",
    "from tqdm import tqdm\n",
    "import reverse_geocoder as rg\n",
    "from collections import Counter\n",
    "import networkx as nx\n",
    "from multiprocessing import Pool\n",
    "from scipy import sparse, stats, spatial, linalg\n",
    "from pygsp import graphs, filters, plotting\n",
    "from mpl_toolkits.basemap import Basemap\n",
    "import sklearn\n",
    "import itertools\n",
    "import matplotlib as mpl\n",
    "from sklearn.cluster import DBSCAN\n",
    "from sklearn.preprocessing import StandardScaler\n",
    "from datetime import datetime, timedelta\n",
    "plt.rcParams['figure.figsize'] = (17, 5)"
   ]
  },
  {
   "cell_type": "code",
   "execution_count": 2,
   "metadata": {
    "collapsed": true
   },
   "outputs": [],
   "source": [
    "def read_tle(tle_file):\n",
    "    tle = open(tle_file)\n",
    "    lines = tle.readlines()\n",
    "    return lines"
   ]
  },
  {
   "cell_type": "code",
   "execution_count": 3,
   "metadata": {
    "collapsed": true
   },
   "outputs": [],
   "source": [
    "def compute_tle_informations(lines):\n",
    "    numb_element = len(lines)\n",
    "    names = []\n",
    "    long = []\n",
    "    lat = []\n",
    "    elevation_km = []\n",
    "    for i in range(0,numb_element-1,3):\n",
    "        temp = ephem.readtle(lines[i], lines[i+1], lines[i+2])\n",
    "        temp.compute('2017/10/12')\n",
    "        try:\n",
    "            long.append(temp.sublong*180/pi)\n",
    "            lat.append(temp.sublat*180/pi)\n",
    "            elevation_km.append(temp.elevation/1000)\n",
    "            names.append(temp.name[2:])\n",
    "        except:\n",
    "            print('Index number {} is not compatible to perform computation' .format(i))\n",
    "    return names,long,lat,elevation_km"
   ]
  },
  {
   "cell_type": "code",
   "execution_count": 4,
   "metadata": {
    "collapsed": true
   },
   "outputs": [],
   "source": [
    "def satellite_orbit(name):\n",
    "    orbit_point = []\n",
    "    line_1, line_2 = dict_tle[name]\n",
    "    period = int(sioi[sioi.OBJECT_NAME == name].PERIOD.values[0])\n",
    "    delta_t = int(period*60/nb_point)\n",
    "    delta_t = timedelta(seconds = delta_t)\n",
    "    time = datetime(2017,10,12)\n",
    "    l1, l2 = dict_tle[name]\n",
    "    temp = ephem.readtle(name, l1, l2)\n",
    "    for i in range(0,200):\n",
    "        time = time + delta_t\n",
    "        temp.compute(time)\n",
    "        try:\n",
    "            lat = temp.sublat*180/pi\n",
    "            long = temp.sublong*180/pi\n",
    "            orbit_point.append((lat,long))\n",
    "        except:\n",
    "            print(\"ERROR\")\n",
    "    return orbit_point"
   ]
  },
  {
   "cell_type": "code",
   "execution_count": 5,
   "metadata": {
    "collapsed": true
   },
   "outputs": [],
   "source": [
    "def compute_grids(res):\n",
    "    orbit_grids= []\n",
    "    vertical_offset =90\n",
    "    horizontal_offset = 180\n",
    "    shape = (180,360)\n",
    "    coverage_width = range(-7, 7)\n",
    "    for stats in res:\n",
    "        grid = np.zeros(shape)\n",
    "        for lat, long in stats:\n",
    "            lat = round(lat) + vertical_offset\n",
    "            long = round(long) + horizontal_offset\n",
    "            for i in coverage_width:\n",
    "                for j in coverage_width:\n",
    "                    grid[(lat+i)%shape[0]][(long+j)%shape[1]] = 1\n",
    "        orbit_grids.append(grid)\n",
    "    return orbit_grids"
   ]
  },
  {
   "cell_type": "code",
   "execution_count": 6,
   "metadata": {
    "collapsed": true
   },
   "outputs": [],
   "source": [
    "def plot_map(data_final,labels1=None,label_value=None):\n",
    "    plt.figure(figsize=(20,10))\n",
    "    eq_map = Basemap(projection='robin', resolution = 'l', area_thresh = 1000.0,\n",
    "                  lat_0=0,lon_0=0)\n",
    "    eq_map.drawcoastlines()\n",
    "    eq_map.drawcountries()\n",
    "    eq_map.bluemarble()\n",
    "    eq_map.drawmapboundary()\n",
    "    eq_map.drawmeridians(np.arange(0, 360, 30))\n",
    "    eq_map.drawparallels(np.arange(-90, 90, 30))\n",
    "\n",
    "    if labels1 is not None:\n",
    "        long = data_final['Longitude [°]'].values[labels1==label_value]\n",
    "        lat = data_final['Latitude [°]'].values[labels1==label_value]\n",
    "    else:\n",
    "        long = data_final['Longitude [°]'].values\n",
    "        lat = data_final['Latitude [°]'].values\n",
    "    lons,lats = eq_map(long,lat)\n",
    "    eq_map.scatter(lons, lats, marker = 'o', color='y', zorder=1)\n",
    "    plt.show()"
   ]
  },
  {
   "cell_type": "code",
   "execution_count": 7,
   "metadata": {
    "collapsed": true
   },
   "outputs": [],
   "source": [
    "def dbscan_func(G,epsilon,mn,labels=None,label_value=None):\n",
    "    centers = [[1, 1], [-1, -1], [1, -1]]\n",
    "    \n",
    "    if labels is not None:\n",
    "        X = G.coords[labels==label_value]\n",
    "    else:\n",
    "        X = G.coords\n",
    "        \n",
    "    X = StandardScaler().fit_transform(X)\n",
    "    db = DBSCAN(eps= epsilon, min_samples = mn).fit(X)\n",
    "    core_samples_mask = np.zeros_like(db.labels_, dtype=bool)\n",
    "    core_samples_mask[db.core_sample_indices_] = True\n",
    "    labels1 = db.labels_\n",
    "\n",
    "    n_clusters_ = len(set(labels1)) - (1 if -1 in labels1 else 0)\n",
    "    unique_labels = set(labels1)\n",
    "    colors = [plt.cm.Spectral(each)\n",
    "              for each in np.linspace(0, 1, len(unique_labels))]\n",
    "    for k, col in zip(unique_labels, colors):\n",
    "        if k == -1:\n",
    "            # Black used for noise.\n",
    "            col = [0, 0, 0, 1]\n",
    "\n",
    "        class_member_mask = (labels1 == k)\n",
    "\n",
    "        xy = X[class_member_mask & core_samples_mask]\n",
    "        plt.plot(xy[:, 0], xy[:, 1], 'o', markerfacecolor=tuple(col),\n",
    "                 markeredgecolor='k', markersize=14)\n",
    "\n",
    "        xy = X[class_member_mask & ~core_samples_mask]\n",
    "        plt.plot(xy[:, 0], xy[:, 1], 'o', markerfacecolor=tuple(col),\n",
    "                 markeredgecolor='k', markersize=6)\n",
    "\n",
    "    plt.title('Estimated number of clusters: %d' % n_clusters_)\n",
    "    plt.show()\n",
    "    return labels1"
   ]
  },
  {
   "cell_type": "code",
   "execution_count": 8,
   "metadata": {
    "collapsed": true
   },
   "outputs": [],
   "source": [
    "def compute_weight(sat1,sat2):\n",
    "    tot = np.logical_and(sat1,sat2)\n",
    "    return np.sum(tot)"
   ]
  },
  {
   "cell_type": "code",
   "execution_count": 9,
   "metadata": {
    "collapsed": true
   },
   "outputs": [],
   "source": [
    "def compute_adja(orbit_grids):\n",
    "    adja = np.zeros([len(orbit_grids),len(orbit_grids)])\n",
    "    for n1,i1 in enumerate(orbit_grids):\n",
    "        for n2,i2 in enumerate(orbit_grids[n1+1:]):\n",
    "            adja[n1,n2+n1+1] = compute_weight(i1,i2)\n",
    "    return adja + np.transpose(adja)"
   ]
  },
  {
   "cell_type": "markdown",
   "metadata": {},
   "source": [
    "# 2. Data Acquisition"
   ]
  },
  {
   "cell_type": "code",
   "execution_count": null,
   "metadata": {
    "collapsed": true
   },
   "outputs": [],
   "source": []
  },
  {
   "cell_type": "markdown",
   "metadata": {},
   "source": [
    "# 3. Data Exploration"
   ]
  },
  {
   "cell_type": "markdown",
   "metadata": {},
   "source": [
    "As said before we retrieved three different files from the [SpaceTrack](https://www.space-track.org) website. The most important one is the file containing the [two-line elements](https://en.wikipedia.org/wiki/Two-line_element_set). We will therefore start exploring this one."
   ]
  },
  {
   "cell_type": "markdown",
   "metadata": {},
   "source": [
    "## 3.1 Two-Line Elements\n",
    "\n",
    "A two line element is a data format containing a list of orbital information. Thos information allow us to compute the position of a satellite at a given time.\n",
    "It looks like this:\n",
    "    - 0 VANGUARD 2\n",
    "    - 1    11U 59001A   17329.92226964 +.00000367 +00000-0 +19707-3 0  9992\n",
    "    - 2    11 032.8697 323.5388 1468703 016.5820 347.7999 11.85506786164031\n",
    "The first line is the name of the satellite and the following lines are the so calles two line element for this sattelite. The full description of each parameters can be found [here](https://en.wikipedia.org/wiki/Two-line_element_set#Format).\n",
    "However we are interested in the position of satellites. In order to convert this raw data into a localisation we use the [pyephem](https://pypi.python.org/pypi/pyephem/) library. <br>\n",
    "We thus compute the longitude, latitude and elevation for each sattelite of the text file satellite_tle_current."
   ]
  },
  {
   "cell_type": "code",
   "execution_count": 5,
   "metadata": {},
   "outputs": [
    {
     "name": "stdout",
     "output_type": "stream",
     "text": [
      "Index number 5361 is not compatible to perform computation\n",
      "Index number 49563 is not compatible to perform computation\n"
     ]
    }
   ],
   "source": [
    "lines_tot = read_tle('Dataset/satellite_tle_current.txt')\n",
    "assert [lines_tot.count('\\n') == 0]\n",
    "\n",
    "names,long,lat,elevation_km = compute_tle_informations(lines_tot)\n",
    "data = pd.DataFrame(np.transpose([names,long,lat,elevation_km]))\n",
    "data.columns = ['OBJECT_NAME','Longitude [°]','Latitude [°]','Elevation [km]']"
   ]
  },
  {
   "cell_type": "markdown",
   "metadata": {},
   "source": [
    "As we can see from the debug output above, some TLE were not in the right format and their position is not computable.\n",
    "The retrieved data set contains now the position of all satellites that had the right format."
   ]
  },
  {
   "cell_type": "code",
   "execution_count": 6,
   "metadata": {},
   "outputs": [
    {
     "data": {
      "text/html": [
       "<div>\n",
       "<style>\n",
       "    .dataframe thead tr:only-child th {\n",
       "        text-align: right;\n",
       "    }\n",
       "\n",
       "    .dataframe thead th {\n",
       "        text-align: left;\n",
       "    }\n",
       "\n",
       "    .dataframe tbody tr th {\n",
       "        vertical-align: top;\n",
       "    }\n",
       "</style>\n",
       "<table border=\"1\" class=\"dataframe\">\n",
       "  <thead>\n",
       "    <tr style=\"text-align: right;\">\n",
       "      <th></th>\n",
       "      <th>OBJECT_NAME</th>\n",
       "      <th>Longitude [°]</th>\n",
       "      <th>Latitude [°]</th>\n",
       "      <th>Elevation [km]</th>\n",
       "    </tr>\n",
       "  </thead>\n",
       "  <tbody>\n",
       "    <tr>\n",
       "      <th>0</th>\n",
       "      <td>VANGUARD 1</td>\n",
       "      <td>-63.01315328238157</td>\n",
       "      <td>-26.65173623575367</td>\n",
       "      <td>950.1053125</td>\n",
       "    </tr>\n",
       "    <tr>\n",
       "      <th>1</th>\n",
       "      <td>VANGUARD 2</td>\n",
       "      <td>33.607191075144456</td>\n",
       "      <td>-32.25819456312109</td>\n",
       "      <td>2825.77825</td>\n",
       "    </tr>\n",
       "    <tr>\n",
       "      <th>2</th>\n",
       "      <td>VANGUARD R/B</td>\n",
       "      <td>158.90670062542114</td>\n",
       "      <td>1.4622271746404283</td>\n",
       "      <td>746.4226875</td>\n",
       "    </tr>\n",
       "    <tr>\n",
       "      <th>3</th>\n",
       "      <td>VANGUARD R/B</td>\n",
       "      <td>-117.00344908625789</td>\n",
       "      <td>12.395302654786787</td>\n",
       "      <td>2056.953375</td>\n",
       "    </tr>\n",
       "    <tr>\n",
       "      <th>4</th>\n",
       "      <td>VANGUARD 3</td>\n",
       "      <td>-14.979412519707317</td>\n",
       "      <td>-30.811335100669776</td>\n",
       "      <td>3271.14</td>\n",
       "    </tr>\n",
       "  </tbody>\n",
       "</table>\n",
       "</div>"
      ],
      "text/plain": [
       "    OBJECT_NAME        Longitude [°]         Latitude [°] Elevation [km]\n",
       "0    VANGUARD 1   -63.01315328238157   -26.65173623575367    950.1053125\n",
       "1    VANGUARD 2   33.607191075144456   -32.25819456312109     2825.77825\n",
       "2  VANGUARD R/B   158.90670062542114   1.4622271746404283    746.4226875\n",
       "3  VANGUARD R/B  -117.00344908625789   12.395302654786787    2056.953375\n",
       "4    VANGUARD 3  -14.979412519707317  -30.811335100669776        3271.14"
      ]
     },
     "execution_count": 6,
     "metadata": {},
     "output_type": "execute_result"
    }
   ],
   "source": [
    "data.head()"
   ]
  },
  {
   "cell_type": "code",
   "execution_count": 7,
   "metadata": {},
   "outputs": [
    {
     "data": {
      "text/plain": [
       "False"
      ]
     },
     "execution_count": 7,
     "metadata": {},
     "output_type": "execute_result"
    }
   ],
   "source": [
    "data.OBJECT_NAME.is_unique"
   ]
  },
  {
   "cell_type": "markdown",
   "metadata": {},
   "source": [
    "As we can see the name of the satellite are not unique and by a quick verification, they don't share the same two line element. Which means than we have that for two satellites with the same name we get two different positions. This is inconsistent. Most of the Object that have the same name have the extension \"DEB\". This extension means that this object is a debris of the original satellite. This is due to explosion or colision with anothoer object of the satellites. It makes sense to keep track of those object to predict future collisions with those debris for exemple. However we are interested in \"real\" satellites. Therefore we remove all the satellites whos obect name has the extension DEB and moreover we removed all the remaining duplicates in order to use the satellite name as an index"
   ]
  },
  {
   "cell_type": "code",
   "execution_count": 9,
   "metadata": {},
   "outputs": [
    {
     "data": {
      "text/html": [
       "<div>\n",
       "<style>\n",
       "    .dataframe thead tr:only-child th {\n",
       "        text-align: right;\n",
       "    }\n",
       "\n",
       "    .dataframe thead th {\n",
       "        text-align: left;\n",
       "    }\n",
       "\n",
       "    .dataframe tbody tr th {\n",
       "        vertical-align: top;\n",
       "    }\n",
       "</style>\n",
       "<table border=\"1\" class=\"dataframe\">\n",
       "  <thead>\n",
       "    <tr style=\"text-align: right;\">\n",
       "      <th></th>\n",
       "      <th>OBJECT_NAME</th>\n",
       "      <th>Longitude [°]</th>\n",
       "      <th>Latitude [°]</th>\n",
       "      <th>Elevation [km]</th>\n",
       "    </tr>\n",
       "  </thead>\n",
       "  <tbody>\n",
       "    <tr>\n",
       "      <th>0</th>\n",
       "      <td>VANGUARD 1</td>\n",
       "      <td>-63.01315328238157</td>\n",
       "      <td>-26.65173623575367</td>\n",
       "      <td>950.1053125</td>\n",
       "    </tr>\n",
       "    <tr>\n",
       "      <th>1</th>\n",
       "      <td>VANGUARD 2</td>\n",
       "      <td>33.607191075144456</td>\n",
       "      <td>-32.25819456312109</td>\n",
       "      <td>2825.77825</td>\n",
       "    </tr>\n",
       "    <tr>\n",
       "      <th>2</th>\n",
       "      <td>VANGUARD R/B</td>\n",
       "      <td>158.90670062542114</td>\n",
       "      <td>1.4622271746404283</td>\n",
       "      <td>746.4226875</td>\n",
       "    </tr>\n",
       "    <tr>\n",
       "      <th>4</th>\n",
       "      <td>VANGUARD 3</td>\n",
       "      <td>-14.979412519707317</td>\n",
       "      <td>-30.811335100669776</td>\n",
       "      <td>3271.14</td>\n",
       "    </tr>\n",
       "    <tr>\n",
       "      <th>5</th>\n",
       "      <td>EXPLORER 7</td>\n",
       "      <td>165.9903034740197</td>\n",
       "      <td>9.845133707399345</td>\n",
       "      <td>517.82565625</td>\n",
       "    </tr>\n",
       "  </tbody>\n",
       "</table>\n",
       "</div>"
      ],
      "text/plain": [
       "    OBJECT_NAME        Longitude [°]         Latitude [°] Elevation [km]\n",
       "0    VANGUARD 1   -63.01315328238157   -26.65173623575367    950.1053125\n",
       "1    VANGUARD 2   33.607191075144456   -32.25819456312109     2825.77825\n",
       "2  VANGUARD R/B   158.90670062542114   1.4622271746404283    746.4226875\n",
       "4    VANGUARD 3  -14.979412519707317  -30.811335100669776        3271.14\n",
       "5    EXPLORER 7    165.9903034740197    9.845133707399345   517.82565625"
      ]
     },
     "execution_count": 9,
     "metadata": {},
     "output_type": "execute_result"
    }
   ],
   "source": [
    "no_deb = data[[\"DEB\" not in x for x in data.OBJECT_NAME ]].drop_duplicates(subset = \"OBJECT_NAME\")\n",
    "no_deb.head()"
   ]
  },
  {
   "cell_type": "markdown",
   "metadata": {},
   "source": [
    "We can now visualize the distibustion of those three values."
   ]
  },
  {
   "cell_type": "code",
   "execution_count": 26,
   "metadata": {},
   "outputs": [
    {
     "data": {
      "image/png": "[encoded data removed]",
      "text/plain": [
       "<matplotlib.figure.Figure at 0x1c3a481780>"
      ]
     },
     "metadata": {},
     "output_type": "display_data"
    }
   ],
   "source": [
    "#no_deb[\"Elevation [km]\"].astype(\"float\").plot(kind=\"bar\", bins= 30)\n",
    "plt.hist(no_deb[\"Elevation [km]\"].astype(\"float\"), bins = 30, log=True)\n",
    "plt.xlabel(\"Elevation [km]\")\n",
    "plt.ylabel(\"#Satellites\")\n",
    "plt.show()"
   ]
  },
  {
   "cell_type": "markdown",
   "metadata": {},
   "source": [
    "We can observe two main peak. One close to representing satellites orbinting below ~4500 km and one for those orbiting around 35'000 km. Those two bar corresponds to the LEO(Low Earth Orbit) and the GEO/GSO(Geosynchronous/Geostationary orbit). In The middle there is still a lot of satellites, they are called the. The remaining satellites higher than the GEO/GSO are called HEO(High Earth Orbit)."
   ]
  },
  {
   "cell_type": "code",
   "execution_count": 33,
   "metadata": {},
   "outputs": [
    {
     "data": {
      "image/png": "[encoded data removed]",
      "text/plain": [
       "<matplotlib.figure.Figure at 0x1c3c344cc0>"
      ]
     },
     "metadata": {},
     "output_type": "display_data"
    }
   ],
   "source": [
    "plt.hist(no_deb[\"Longitude [°]\"].astype(\"float\"), bins = 50, log=False)\n",
    "plt.xlabel(\"Longitude [°]\")\n",
    "plt.ylabel(\"#Satellites\")\n",
    "plt.show()"
   ]
  },
  {
   "cell_type": "code",
   "execution_count": 34,
   "metadata": {},
   "outputs": [
    {
     "data": {
      "image/png": "[encoded data removed]",
      "text/plain": [
       "<matplotlib.figure.Figure at 0x1c3c5e40b8>"
      ]
     },
     "metadata": {},
     "output_type": "display_data"
    }
   ],
   "source": [
    "plt.hist(no_deb[\"Latitude [°]\"].astype(\"float\"), bins = 50, log=False)\n",
    "plt.xlabel(\"Latitude [°]\")\n",
    "plt.ylabel(\"#Satellites\")\n",
    "plt.show()"
   ]
  },
  {
   "cell_type": "markdown",
   "metadata": {},
   "source": [
    "As we can see the satellites a well spead along the whole range of longitude. However it's not the case for the latitudes. At least not for the latitude 0.\n",
    "The latitude 0 corresponds to the ecuador. And this is where Geostationary satellites are located. Geostationary satellites have the same period as the one from the earth and always have the same positions relatively to the ground."
   ]
  },
  {
   "cell_type": "markdown",
   "metadata": {},
   "source": [
    "## 3.2 Satellites in Orbit Info"
   ]
  },
  {
   "cell_type": "markdown",
   "metadata": {},
   "source": [
    "The second file that we retrieved contain aditional information for each satellites as we can see below"
   ]
  },
  {
   "cell_type": "code",
   "execution_count": 36,
   "metadata": {},
   "outputs": [
    {
     "data": {
      "text/html": [
       "<div>\n",
       "<style>\n",
       "    .dataframe thead tr:only-child th {\n",
       "        text-align: right;\n",
       "    }\n",
       "\n",
       "    .dataframe thead th {\n",
       "        text-align: left;\n",
       "    }\n",
       "\n",
       "    .dataframe tbody tr th {\n",
       "        vertical-align: top;\n",
       "    }\n",
       "</style>\n",
       "<table border=\"1\" class=\"dataframe\">\n",
       "  <thead>\n",
       "    <tr style=\"text-align: right;\">\n",
       "      <th></th>\n",
       "      <th>OBJECT_ID</th>\n",
       "      <th>OBJECT_NAME</th>\n",
       "      <th>NORAD_CAT_ID</th>\n",
       "      <th>COUNTRY</th>\n",
       "      <th>PERIOD</th>\n",
       "      <th>INCLINATION</th>\n",
       "      <th>APOGEE</th>\n",
       "      <th>PERIGEE</th>\n",
       "      <th>RCS_SIZE</th>\n",
       "      <th>RCSVALUE</th>\n",
       "      <th>LAUNCH</th>\n",
       "      <th>COMMENT</th>\n",
       "    </tr>\n",
       "  </thead>\n",
       "  <tbody>\n",
       "    <tr>\n",
       "      <th>0</th>\n",
       "      <td>2017-075D</td>\n",
       "      <td>CZ-2C R/B</td>\n",
       "      <td>43031</td>\n",
       "      <td>PRC</td>\n",
       "      <td>95.19</td>\n",
       "      <td>35.21</td>\n",
       "      <td>599.0</td>\n",
       "      <td>457.0</td>\n",
       "      <td>NaN</td>\n",
       "      <td>0</td>\n",
       "      <td>2017-11-24</td>\n",
       "      <td>NaN</td>\n",
       "    </tr>\n",
       "    <tr>\n",
       "      <th>1</th>\n",
       "      <td>2017-075C</td>\n",
       "      <td>YAOGAN-30 F</td>\n",
       "      <td>43030</td>\n",
       "      <td>PRC</td>\n",
       "      <td>96.62</td>\n",
       "      <td>35.00</td>\n",
       "      <td>604.0</td>\n",
       "      <td>590.0</td>\n",
       "      <td>NaN</td>\n",
       "      <td>0</td>\n",
       "      <td>2017-11-24</td>\n",
       "      <td>NaN</td>\n",
       "    </tr>\n",
       "    <tr>\n",
       "      <th>2</th>\n",
       "      <td>2017-075B</td>\n",
       "      <td>YAOGAN-30 E</td>\n",
       "      <td>43029</td>\n",
       "      <td>PRC</td>\n",
       "      <td>96.62</td>\n",
       "      <td>35.00</td>\n",
       "      <td>604.0</td>\n",
       "      <td>590.0</td>\n",
       "      <td>NaN</td>\n",
       "      <td>0</td>\n",
       "      <td>2017-11-24</td>\n",
       "      <td>NaN</td>\n",
       "    </tr>\n",
       "    <tr>\n",
       "      <th>3</th>\n",
       "      <td>2017-075A</td>\n",
       "      <td>YAOGAN-30 D</td>\n",
       "      <td>43028</td>\n",
       "      <td>PRC</td>\n",
       "      <td>96.62</td>\n",
       "      <td>35.00</td>\n",
       "      <td>603.0</td>\n",
       "      <td>590.0</td>\n",
       "      <td>NaN</td>\n",
       "      <td>0</td>\n",
       "      <td>2017-11-24</td>\n",
       "      <td>NaN</td>\n",
       "    </tr>\n",
       "    <tr>\n",
       "      <th>4</th>\n",
       "      <td>1998-067NL</td>\n",
       "      <td>OSIRIS-3U</td>\n",
       "      <td>43027</td>\n",
       "      <td>US</td>\n",
       "      <td>92.59</td>\n",
       "      <td>51.64</td>\n",
       "      <td>405.0</td>\n",
       "      <td>398.0</td>\n",
       "      <td>NaN</td>\n",
       "      <td>0</td>\n",
       "      <td>1998-11-20</td>\n",
       "      <td>NaN</td>\n",
       "    </tr>\n",
       "  </tbody>\n",
       "</table>\n",
       "</div>"
      ],
      "text/plain": [
       "    OBJECT_ID  OBJECT_NAME  NORAD_CAT_ID COUNTRY  PERIOD  INCLINATION  APOGEE  \\\n",
       "0   2017-075D    CZ-2C R/B         43031     PRC   95.19        35.21   599.0   \n",
       "1   2017-075C  YAOGAN-30 F         43030     PRC   96.62        35.00   604.0   \n",
       "2   2017-075B  YAOGAN-30 E         43029     PRC   96.62        35.00   604.0   \n",
       "3   2017-075A  YAOGAN-30 D         43028     PRC   96.62        35.00   603.0   \n",
       "4  1998-067NL    OSIRIS-3U         43027      US   92.59        51.64   405.0   \n",
       "\n",
       "   PERIGEE RCS_SIZE  RCSVALUE      LAUNCH COMMENT  \n",
       "0    457.0      NaN         0  2017-11-24     NaN  \n",
       "1    590.0      NaN         0  2017-11-24     NaN  \n",
       "2    590.0      NaN         0  2017-11-24     NaN  \n",
       "3    590.0      NaN         0  2017-11-24     NaN  \n",
       "4    398.0      NaN         0  1998-11-20     NaN  "
      ]
     },
     "execution_count": 36,
     "metadata": {},
     "output_type": "execute_result"
    }
   ],
   "source": [
    "sioi = pd.read_csv(\"Dataset/satellites_in_orbit_info.csv\")\n",
    "sioi.head()"
   ]
  },
  {
   "cell_type": "markdown",
   "metadata": {},
   "source": [
    "We start by cleaning the dataframe before vizualizing it. We start by dropping the columns COMMENT, RCSVALUE and RCS_SIZE because the don't contains information most of the time"
   ]
  },
  {
   "cell_type": "code",
   "execution_count": 39,
   "metadata": {
    "collapsed": true
   },
   "outputs": [],
   "source": [
    "sioi = sioi.drop([\"COMMENT\", \"RCSVALUE\", \"RCS_SIZE\"], axis = 1)"
   ]
  },
  {
   "cell_type": "markdown",
   "metadata": {},
   "source": [
    "We then remove the satellites that have duplicates and that have the DEB extension to be consistent with our previous processing on the tle file. We also remove row that still contains NaN values."
   ]
  },
  {
   "cell_type": "code",
   "execution_count": 41,
   "metadata": {},
   "outputs": [
    {
     "data": {
      "text/html": [
       "<div>\n",
       "<style>\n",
       "    .dataframe thead tr:only-child th {\n",
       "        text-align: right;\n",
       "    }\n",
       "\n",
       "    .dataframe thead th {\n",
       "        text-align: left;\n",
       "    }\n",
       "\n",
       "    .dataframe tbody tr th {\n",
       "        vertical-align: top;\n",
       "    }\n",
       "</style>\n",
       "<table border=\"1\" class=\"dataframe\">\n",
       "  <thead>\n",
       "    <tr style=\"text-align: right;\">\n",
       "      <th></th>\n",
       "      <th>OBJECT_ID</th>\n",
       "      <th>OBJECT_NAME</th>\n",
       "      <th>NORAD_CAT_ID</th>\n",
       "      <th>COUNTRY</th>\n",
       "      <th>PERIOD</th>\n",
       "      <th>INCLINATION</th>\n",
       "      <th>APOGEE</th>\n",
       "      <th>PERIGEE</th>\n",
       "      <th>LAUNCH</th>\n",
       "    </tr>\n",
       "  </thead>\n",
       "  <tbody>\n",
       "    <tr>\n",
       "      <th>0</th>\n",
       "      <td>2017-075D</td>\n",
       "      <td>CZ-2C R/B</td>\n",
       "      <td>43031</td>\n",
       "      <td>PRC</td>\n",
       "      <td>95.19</td>\n",
       "      <td>35.21</td>\n",
       "      <td>599.0</td>\n",
       "      <td>457.0</td>\n",
       "      <td>2017-11-24</td>\n",
       "    </tr>\n",
       "    <tr>\n",
       "      <th>1</th>\n",
       "      <td>2017-075C</td>\n",
       "      <td>YAOGAN-30 F</td>\n",
       "      <td>43030</td>\n",
       "      <td>PRC</td>\n",
       "      <td>96.62</td>\n",
       "      <td>35.00</td>\n",
       "      <td>604.0</td>\n",
       "      <td>590.0</td>\n",
       "      <td>2017-11-24</td>\n",
       "    </tr>\n",
       "    <tr>\n",
       "      <th>2</th>\n",
       "      <td>2017-075B</td>\n",
       "      <td>YAOGAN-30 E</td>\n",
       "      <td>43029</td>\n",
       "      <td>PRC</td>\n",
       "      <td>96.62</td>\n",
       "      <td>35.00</td>\n",
       "      <td>604.0</td>\n",
       "      <td>590.0</td>\n",
       "      <td>2017-11-24</td>\n",
       "    </tr>\n",
       "    <tr>\n",
       "      <th>3</th>\n",
       "      <td>2017-075A</td>\n",
       "      <td>YAOGAN-30 D</td>\n",
       "      <td>43028</td>\n",
       "      <td>PRC</td>\n",
       "      <td>96.62</td>\n",
       "      <td>35.00</td>\n",
       "      <td>603.0</td>\n",
       "      <td>590.0</td>\n",
       "      <td>2017-11-24</td>\n",
       "    </tr>\n",
       "    <tr>\n",
       "      <th>4</th>\n",
       "      <td>1998-067NL</td>\n",
       "      <td>OSIRIS-3U</td>\n",
       "      <td>43027</td>\n",
       "      <td>US</td>\n",
       "      <td>92.59</td>\n",
       "      <td>51.64</td>\n",
       "      <td>405.0</td>\n",
       "      <td>398.0</td>\n",
       "      <td>1998-11-20</td>\n",
       "    </tr>\n",
       "  </tbody>\n",
       "</table>\n",
       "</div>"
      ],
      "text/plain": [
       "    OBJECT_ID  OBJECT_NAME  NORAD_CAT_ID COUNTRY  PERIOD  INCLINATION  APOGEE  \\\n",
       "0   2017-075D    CZ-2C R/B         43031     PRC   95.19        35.21   599.0   \n",
       "1   2017-075C  YAOGAN-30 F         43030     PRC   96.62        35.00   604.0   \n",
       "2   2017-075B  YAOGAN-30 E         43029     PRC   96.62        35.00   604.0   \n",
       "3   2017-075A  YAOGAN-30 D         43028     PRC   96.62        35.00   603.0   \n",
       "4  1998-067NL    OSIRIS-3U         43027      US   92.59        51.64   405.0   \n",
       "\n",
       "   PERIGEE      LAUNCH  \n",
       "0    457.0  2017-11-24  \n",
       "1    590.0  2017-11-24  \n",
       "2    590.0  2017-11-24  \n",
       "3    590.0  2017-11-24  \n",
       "4    398.0  1998-11-20  "
      ]
     },
     "execution_count": 41,
     "metadata": {},
     "output_type": "execute_result"
    }
   ],
   "source": [
    "sioi = sioi[[\"DEB\" not in x for x in sioi.OBJECT_NAME ]].drop_duplicates(subset = \"OBJECT_NAME\")\n",
    "sioi = sioi.dropna(axis = 0)\n",
    "sioi.head()"
   ]
  },
  {
   "cell_type": "markdown",
   "metadata": {},
   "source": [
    "We can now plot the apogee for example and we could expect a similar disctribution as the elevation feature for the TLE file."
   ]
  },
  {
   "cell_type": "code",
   "execution_count": 48,
   "metadata": {},
   "outputs": [
    {
     "data": {
      "image/png": "[encoded data removed]",
      "text/plain": [
       "<matplotlib.figure.Figure at 0x1c20b98f98>"
      ]
     },
     "metadata": {},
     "output_type": "display_data"
    }
   ],
   "source": [
    "plt.hist(sioi.APOGEE, bins=50)\n",
    "plt.show()"
   ]
  },
  {
   "cell_type": "markdown",
   "metadata": {},
   "source": [
    "As we can see the two files don't seem to contains the same set of satellites. We can plot the satellites that have an apogee lower than 175'000 km to compare more precisely the two plots."
   ]
  },
  {
   "cell_type": "code",
   "execution_count": 49,
   "metadata": {},
   "outputs": [
    {
     "data": {
      "image/png": "[encoded data removed]",
      "text/plain": [
       "<matplotlib.figure.Figure at 0x1c3a4ab5f8>"
      ]
     },
     "metadata": {},
     "output_type": "display_data"
    }
   ],
   "source": [
    "plt.hist(sioi.APOGEE[sioi.APOGEE < 175000], bins=50)\n",
    "plt.show()"
   ]
  },
  {
   "cell_type": "markdown",
   "metadata": {},
   "source": [
    "Apparently this file contains informations mainly about LEO and GEO/GSO satellites. In order to use both files in the exploitation we will merge them later."
   ]
  },
  {
   "cell_type": "markdown",
   "metadata": {},
   "source": [
    "We can plot the lauchdate histogram of this file"
   ]
  },
  {
   "cell_type": "code",
   "execution_count": 50,
   "metadata": {},
   "outputs": [
    {
     "data": {
      "image/png": "[encoded data removed]",
      "text/plain": [
       "<matplotlib.figure.Figure at 0x1c3c368d30>"
      ]
     },
     "metadata": {},
     "output_type": "display_data"
    }
   ],
   "source": [
    "sioi[\"LAUNCH\"]= pd.to_datetime(sioi[\"LAUNCH\"]).apply(lambda x: x.strftime('%Y'))\n",
    "sioi.groupby(\"LAUNCH\").size().plot(kind=\"bar\", figsize=(20,10))\n",
    "plt.show()"
   ]
  },
  {
   "cell_type": "markdown",
   "metadata": {},
   "source": [
    "There is clearly an increasing tendency throughout the years. The exponential behaviour in the latest year could be explained by the democratization of cube satellites lauch for commercial use."
   ]
  },
  {
   "cell_type": "markdown",
   "metadata": {},
   "source": [
    "## 3.3 Satellites Statistics per Country"
   ]
  },
  {
   "cell_type": "markdown",
   "metadata": {},
   "source": [
    "The last file contains various statistics per country"
   ]
  },
  {
   "cell_type": "code",
   "execution_count": 53,
   "metadata": {},
   "outputs": [
    {
     "data": {
      "text/html": [
       "<div>\n",
       "<style>\n",
       "    .dataframe thead tr:only-child th {\n",
       "        text-align: right;\n",
       "    }\n",
       "\n",
       "    .dataframe thead th {\n",
       "        text-align: left;\n",
       "    }\n",
       "\n",
       "    .dataframe tbody tr th {\n",
       "        vertical-align: top;\n",
       "    }\n",
       "</style>\n",
       "<table border=\"1\" class=\"dataframe\">\n",
       "  <thead>\n",
       "    <tr style=\"text-align: right;\">\n",
       "      <th></th>\n",
       "      <th>COUNTRY</th>\n",
       "      <th>SPADOC_CD</th>\n",
       "      <th>ORBITAL_TBA</th>\n",
       "      <th>ORBITAL_PAYLOAD_COUNT</th>\n",
       "      <th>ORBITAL_ROCKET_BODY_COUNT</th>\n",
       "      <th>ORBITAL_DEBRIS_COUNT</th>\n",
       "      <th>ORBITAL_TOTAL_COUNT</th>\n",
       "      <th>DECAYED_PAYLOAD_COUNT</th>\n",
       "      <th>DECAYED_ROCKET_BODY_COUNT</th>\n",
       "      <th>DECAYED_DEBRIS_COUNT</th>\n",
       "      <th>DECAYED_TOTAL_COUNT</th>\n",
       "      <th>COUNTRY_TOTAL</th>\n",
       "    </tr>\n",
       "  </thead>\n",
       "  <tbody>\n",
       "    <tr>\n",
       "      <th>0</th>\n",
       "      <td>ARAB SATELLITE COMMUNICATIONS ORGANIZATION</td>\n",
       "      <td>AB</td>\n",
       "      <td>0</td>\n",
       "      <td>13</td>\n",
       "      <td>0</td>\n",
       "      <td>0</td>\n",
       "      <td>13</td>\n",
       "      <td>1</td>\n",
       "      <td>0</td>\n",
       "      <td>0</td>\n",
       "      <td>1</td>\n",
       "      <td>14</td>\n",
       "    </tr>\n",
       "    <tr>\n",
       "      <th>1</th>\n",
       "      <td>ASIASAT CORP</td>\n",
       "      <td>AC</td>\n",
       "      <td>0</td>\n",
       "      <td>8</td>\n",
       "      <td>0</td>\n",
       "      <td>0</td>\n",
       "      <td>8</td>\n",
       "      <td>0</td>\n",
       "      <td>0</td>\n",
       "      <td>0</td>\n",
       "      <td>0</td>\n",
       "      <td>8</td>\n",
       "    </tr>\n",
       "    <tr>\n",
       "      <th>2</th>\n",
       "      <td>ALGERIA</td>\n",
       "      <td>ALG</td>\n",
       "      <td>0</td>\n",
       "      <td>5</td>\n",
       "      <td>0</td>\n",
       "      <td>0</td>\n",
       "      <td>5</td>\n",
       "      <td>0</td>\n",
       "      <td>0</td>\n",
       "      <td>0</td>\n",
       "      <td>0</td>\n",
       "      <td>5</td>\n",
       "    </tr>\n",
       "    <tr>\n",
       "      <th>3</th>\n",
       "      <td>ARGENTINA</td>\n",
       "      <td>ARGN</td>\n",
       "      <td>0</td>\n",
       "      <td>17</td>\n",
       "      <td>0</td>\n",
       "      <td>0</td>\n",
       "      <td>17</td>\n",
       "      <td>2</td>\n",
       "      <td>0</td>\n",
       "      <td>0</td>\n",
       "      <td>2</td>\n",
       "      <td>19</td>\n",
       "    </tr>\n",
       "    <tr>\n",
       "      <th>4</th>\n",
       "      <td>AUSTRIA</td>\n",
       "      <td>ASRA</td>\n",
       "      <td>0</td>\n",
       "      <td>3</td>\n",
       "      <td>0</td>\n",
       "      <td>0</td>\n",
       "      <td>3</td>\n",
       "      <td>0</td>\n",
       "      <td>0</td>\n",
       "      <td>0</td>\n",
       "      <td>0</td>\n",
       "      <td>3</td>\n",
       "    </tr>\n",
       "  </tbody>\n",
       "</table>\n",
       "</div>"
      ],
      "text/plain": [
       "                                      COUNTRY SPADOC_CD  ORBITAL_TBA  \\\n",
       "0  ARAB SATELLITE COMMUNICATIONS ORGANIZATION        AB            0   \n",
       "1                                ASIASAT CORP        AC            0   \n",
       "2                                     ALGERIA       ALG            0   \n",
       "3                                   ARGENTINA      ARGN            0   \n",
       "4                                     AUSTRIA      ASRA            0   \n",
       "\n",
       "   ORBITAL_PAYLOAD_COUNT  ORBITAL_ROCKET_BODY_COUNT  ORBITAL_DEBRIS_COUNT  \\\n",
       "0                     13                          0                     0   \n",
       "1                      8                          0                     0   \n",
       "2                      5                          0                     0   \n",
       "3                     17                          0                     0   \n",
       "4                      3                          0                     0   \n",
       "\n",
       "   ORBITAL_TOTAL_COUNT  DECAYED_PAYLOAD_COUNT  DECAYED_ROCKET_BODY_COUNT  \\\n",
       "0                   13                      1                          0   \n",
       "1                    8                      0                          0   \n",
       "2                    5                      0                          0   \n",
       "3                   17                      2                          0   \n",
       "4                    3                      0                          0   \n",
       "\n",
       "   DECAYED_DEBRIS_COUNT  DECAYED_TOTAL_COUNT  COUNTRY_TOTAL  \n",
       "0                     0                    1             14  \n",
       "1                     0                    0              8  \n",
       "2                     0                    0              5  \n",
       "3                     0                    2             19  \n",
       "4                     0                    0              3  "
      ]
     },
     "execution_count": 53,
     "metadata": {},
     "output_type": "execute_result"
    }
   ],
   "source": [
    "sspc = pd.read_csv(\"Dataset/sat_statistics_per_country.csv\")\n",
    "sspc.head()"
   ]
  },
  {
   "cell_type": "markdown",
   "metadata": {},
   "source": [
    "This file will not be used in following analysis but for the sake of curiosity we can still plot the distribution of satellites per country"
   ]
  },
  {
   "cell_type": "code",
   "execution_count": 54,
   "metadata": {},
   "outputs": [
    {
     "data": {
      "image/png": "[encoded data removed]",
      "text/plain": [
       "<matplotlib.figure.Figure at 0x1c39369eb8>"
      ]
     },
     "metadata": {},
     "output_type": "display_data"
    }
   ],
   "source": [
    "sspc = sspc[[\"COUNTRY\", \"ORBITAL_TOTAL_COUNT\"]].set_index(\"COUNTRY\")\n",
    "sspc = sspc.drop(\"ALL\")\n",
    "sspc.plot(kind='bar', figsize = (30, 10), logy=True)\n",
    "plt.show()"
   ]
  },
  {
   "cell_type": "markdown",
   "metadata": {},
   "source": [
    "Not suprisingly the most active countries are the USA, China and Russia (more precisely Commonwealth of independant states)"
   ]
  },
  {
   "cell_type": "markdown",
   "metadata": {},
   "source": [
    "# 4. Data Exploitation"
   ]
  },
  {
   "cell_type": "markdown",
   "metadata": {},
   "source": [
    "We will combine the first two files from the exploratory part, namely the tle file and the Satellites in Orbit Info file. As we saw before they don't contains the same data. In order to use data present on both file we will merge both dataframe on their \"Object_Name\""
   ]
  },
  {
   "cell_type": "code",
   "execution_count": 55,
   "metadata": {},
   "outputs": [
    {
     "data": {
      "text/html": [
       "<div>\n",
       "<style>\n",
       "    .dataframe thead tr:only-child th {\n",
       "        text-align: right;\n",
       "    }\n",
       "\n",
       "    .dataframe thead th {\n",
       "        text-align: left;\n",
       "    }\n",
       "\n",
       "    .dataframe tbody tr th {\n",
       "        vertical-align: top;\n",
       "    }\n",
       "</style>\n",
       "<table border=\"1\" class=\"dataframe\">\n",
       "  <thead>\n",
       "    <tr style=\"text-align: right;\">\n",
       "      <th></th>\n",
       "      <th>OBJECT_NAME</th>\n",
       "      <th>Longitude [°]</th>\n",
       "      <th>Latitude [°]</th>\n",
       "      <th>Elevation [km]</th>\n",
       "      <th>OBJECT_ID</th>\n",
       "      <th>NORAD_CAT_ID</th>\n",
       "      <th>COUNTRY</th>\n",
       "      <th>PERIOD</th>\n",
       "      <th>INCLINATION</th>\n",
       "      <th>APOGEE</th>\n",
       "      <th>PERIGEE</th>\n",
       "      <th>LAUNCH</th>\n",
       "    </tr>\n",
       "  </thead>\n",
       "  <tbody>\n",
       "    <tr>\n",
       "      <th>0</th>\n",
       "      <td>VANGUARD 1</td>\n",
       "      <td>-63.01315328238157</td>\n",
       "      <td>-26.65173623575367</td>\n",
       "      <td>950.1053125</td>\n",
       "      <td>1958-002B</td>\n",
       "      <td>5</td>\n",
       "      <td>US</td>\n",
       "      <td>132.75</td>\n",
       "      <td>34.24</td>\n",
       "      <td>3834.0</td>\n",
       "      <td>650.0</td>\n",
       "      <td>1958</td>\n",
       "    </tr>\n",
       "    <tr>\n",
       "      <th>1</th>\n",
       "      <td>VANGUARD 2</td>\n",
       "      <td>33.607191075144456</td>\n",
       "      <td>-32.25819456312109</td>\n",
       "      <td>2825.77825</td>\n",
       "      <td>1959-001A</td>\n",
       "      <td>11</td>\n",
       "      <td>US</td>\n",
       "      <td>121.47</td>\n",
       "      <td>32.87</td>\n",
       "      <td>2940.0</td>\n",
       "      <td>553.0</td>\n",
       "      <td>1959</td>\n",
       "    </tr>\n",
       "    <tr>\n",
       "      <th>2</th>\n",
       "      <td>VANGUARD R/B</td>\n",
       "      <td>158.90670062542114</td>\n",
       "      <td>1.4622271746404283</td>\n",
       "      <td>746.4226875</td>\n",
       "      <td>1958-002A</td>\n",
       "      <td>16</td>\n",
       "      <td>US</td>\n",
       "      <td>137.32</td>\n",
       "      <td>34.28</td>\n",
       "      <td>4223.0</td>\n",
       "      <td>655.0</td>\n",
       "      <td>1958</td>\n",
       "    </tr>\n",
       "    <tr>\n",
       "      <th>3</th>\n",
       "      <td>VANGUARD 3</td>\n",
       "      <td>-14.979412519707317</td>\n",
       "      <td>-30.811335100669776</td>\n",
       "      <td>3271.14</td>\n",
       "      <td>1959-007A</td>\n",
       "      <td>20</td>\n",
       "      <td>US</td>\n",
       "      <td>124.62</td>\n",
       "      <td>33.35</td>\n",
       "      <td>3263.0</td>\n",
       "      <td>510.0</td>\n",
       "      <td>1959</td>\n",
       "    </tr>\n",
       "    <tr>\n",
       "      <th>4</th>\n",
       "      <td>EXPLORER 7</td>\n",
       "      <td>165.9903034740197</td>\n",
       "      <td>9.845133707399345</td>\n",
       "      <td>517.82565625</td>\n",
       "      <td>1959-009A</td>\n",
       "      <td>22</td>\n",
       "      <td>US</td>\n",
       "      <td>96.36</td>\n",
       "      <td>50.28</td>\n",
       "      <td>683.0</td>\n",
       "      <td>486.0</td>\n",
       "      <td>1959</td>\n",
       "    </tr>\n",
       "  </tbody>\n",
       "</table>\n",
       "</div>"
      ],
      "text/plain": [
       "    OBJECT_NAME        Longitude [°]         Latitude [°] Elevation [km]  \\\n",
       "0    VANGUARD 1   -63.01315328238157   -26.65173623575367    950.1053125   \n",
       "1    VANGUARD 2   33.607191075144456   -32.25819456312109     2825.77825   \n",
       "2  VANGUARD R/B   158.90670062542114   1.4622271746404283    746.4226875   \n",
       "3    VANGUARD 3  -14.979412519707317  -30.811335100669776        3271.14   \n",
       "4    EXPLORER 7    165.9903034740197    9.845133707399345   517.82565625   \n",
       "\n",
       "   OBJECT_ID  NORAD_CAT_ID COUNTRY  PERIOD  INCLINATION  APOGEE  PERIGEE  \\\n",
       "0  1958-002B             5      US  132.75        34.24  3834.0    650.0   \n",
       "1  1959-001A            11      US  121.47        32.87  2940.0    553.0   \n",
       "2  1958-002A            16      US  137.32        34.28  4223.0    655.0   \n",
       "3  1959-007A            20      US  124.62        33.35  3263.0    510.0   \n",
       "4  1959-009A            22      US   96.36        50.28   683.0    486.0   \n",
       "\n",
       "  LAUNCH  \n",
       "0   1958  \n",
       "1   1959  \n",
       "2   1958  \n",
       "3   1959  \n",
       "4   1959  "
      ]
     },
     "execution_count": 55,
     "metadata": {},
     "output_type": "execute_result"
    }
   ],
   "source": [
    "data_m = pd.merge(no_deb,sioi,how='inner', on=\"OBJECT_NAME\")\n",
    "data_m.head()"
   ]
  },
  {
   "cell_type": "code",
   "execution_count": 35,
   "metadata": {},
   "outputs": [],
   "source": [
    "coord = list(zip(lat,long))\n",
    "result = rg.search(coord)\n",
    "countries = [temp['cc'] for temp in result]\n",
    "data['Country'] = countries"
   ]
  },
  {
   "cell_type": "code",
   "execution_count": 18,
   "metadata": {},
   "outputs": [
    {
     "data": {
      "text/html": [
       "<div>\n",
       "<style>\n",
       "    .dataframe thead tr:only-child th {\n",
       "        text-align: right;\n",
       "    }\n",
       "\n",
       "    .dataframe thead th {\n",
       "        text-align: left;\n",
       "    }\n",
       "\n",
       "    .dataframe tbody tr th {\n",
       "        vertical-align: top;\n",
       "    }\n",
       "</style>\n",
       "<table border=\"1\" class=\"dataframe\">\n",
       "  <thead>\n",
       "    <tr style=\"text-align: right;\">\n",
       "      <th></th>\n",
       "      <th>OBJECT_NAME</th>\n",
       "      <th>Longitude [°]</th>\n",
       "      <th>Latitude [°]</th>\n",
       "      <th>Elevation [km]</th>\n",
       "      <th>Country</th>\n",
       "    </tr>\n",
       "  </thead>\n",
       "  <tbody>\n",
       "    <tr>\n",
       "      <th>0</th>\n",
       "      <td>VANGUARD 1</td>\n",
       "      <td>-63.01315328238157</td>\n",
       "      <td>-26.65173623575367</td>\n",
       "      <td>950.1053125</td>\n",
       "      <td>AR</td>\n",
       "    </tr>\n",
       "    <tr>\n",
       "      <th>1</th>\n",
       "      <td>VANGUARD 2</td>\n",
       "      <td>33.607191075144456</td>\n",
       "      <td>-32.25819456312109</td>\n",
       "      <td>2825.77825</td>\n",
       "      <td>ZA</td>\n",
       "    </tr>\n",
       "    <tr>\n",
       "      <th>2</th>\n",
       "      <td>VANGUARD R/B</td>\n",
       "      <td>158.90670062542114</td>\n",
       "      <td>1.4622271746404283</td>\n",
       "      <td>746.4226875</td>\n",
       "      <td>FM</td>\n",
       "    </tr>\n",
       "    <tr>\n",
       "      <th>3</th>\n",
       "      <td>VANGUARD R/B</td>\n",
       "      <td>-117.00344908625789</td>\n",
       "      <td>12.395302654786787</td>\n",
       "      <td>2056.953375</td>\n",
       "      <td>MX</td>\n",
       "    </tr>\n",
       "    <tr>\n",
       "      <th>4</th>\n",
       "      <td>VANGUARD 3</td>\n",
       "      <td>-14.979412519707317</td>\n",
       "      <td>-30.811335100669776</td>\n",
       "      <td>3271.14</td>\n",
       "      <td>SH</td>\n",
       "    </tr>\n",
       "  </tbody>\n",
       "</table>\n",
       "</div>"
      ],
      "text/plain": [
       "    OBJECT_NAME        Longitude [°]         Latitude [°] Elevation [km]  \\\n",
       "0    VANGUARD 1   -63.01315328238157   -26.65173623575367    950.1053125   \n",
       "1    VANGUARD 2   33.607191075144456   -32.25819456312109     2825.77825   \n",
       "2  VANGUARD R/B   158.90670062542114   1.4622271746404283    746.4226875   \n",
       "3  VANGUARD R/B  -117.00344908625789   12.395302654786787    2056.953375   \n",
       "4    VANGUARD 3  -14.979412519707317  -30.811335100669776        3271.14   \n",
       "\n",
       "  Country  \n",
       "0      AR  \n",
       "1      ZA  \n",
       "2      FM  \n",
       "3      MX  \n",
       "4      SH  "
      ]
     },
     "execution_count": 18,
     "metadata": {},
     "output_type": "execute_result"
    }
   ],
   "source": [
    "data.head()"
   ]
  },
  {
   "cell_type": "code",
   "execution_count": 16,
   "metadata": {},
   "outputs": [
    {
     "data": {
      "image/png": "[encoded data removed]",
      "text/plain": [
       "<matplotlib.figure.Figure at 0x119f722b0>"
      ]
     },
     "metadata": {},
     "output_type": "display_data"
    }
   ],
   "source": [
    "sioi = pd.read_csv(\"Dataset/satellites_in_orbit_info.csv\")\n",
    "sioi[\"LAUNCH\"]= pd.to_datetime(sioi[\"LAUNCH\"]).apply(lambda x: x.strftime('%Y'))\n",
    "sioi.groupby(\"LAUNCH\").size().plot(kind=\"bar\", figsize=(20,10))\n",
    "plt.show()"
   ]
  },
  {
   "cell_type": "code",
   "execution_count": null,
   "metadata": {
    "collapsed": true
   },
   "outputs": [],
   "source": []
  }
 ],
 "metadata": {
  "kernelspec": {
   "display_name": "Python 3",
   "language": "python",
   "name": "python3"
  },
  "language_info": {
   "codemirror_mode": {
    "name": "ipython",
    "version": 3
   },
   "file_extension": ".py",
   "mimetype": "text/x-python",
   "name": "python",
   "nbconvert_exporter": "python",
   "pygments_lexer": "ipython3",
   "version": "3.6.2"
  }
 },
 "nbformat": 4,
 "nbformat_minor": 2
}
