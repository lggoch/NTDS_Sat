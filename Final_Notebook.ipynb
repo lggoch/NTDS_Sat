{
 "cells": [
  {
   "cell_type": "markdown",
   "metadata": {},
   "source": [
    "# Satellites Characterization\n",
    "** EE-558, A Network Tour of Data Science ** <br>\n",
    "** Lucas Gauchoux, Laurier Loiselle, Antoine Weber **"
   ]
  },
  {
   "cell_type": "markdown",
   "metadata": {},
   "source": [
    "# 0. Abstract"
   ]
  },
  {
   "cell_type": "markdown",
   "metadata": {},
   "source": [
    "# 1. Imports, global names and helper functions"
   ]
  },
  {
   "cell_type": "code",
   "execution_count": 13,
   "metadata": {
    "collapsed": true
   },
   "outputs": [],
   "source": [
    "%matplotlib inline\n",
    "\n",
    "import numpy as np\n",
    "import pandas as pd\n",
    "import scipy.sparse.linalg\n",
    "import matplotlib.pyplot as plt\n",
    "from pygsp import graphs, filters, plotting\n",
    "from numpy import pi\n",
    "import ephem\n",
    "from tqdm import tqdm\n",
    "import reverse_geocoder as rg\n",
    "from collections import Counter\n",
    "import networkx as nx\n",
    "from multiprocessing import Pool\n",
    "from scipy import sparse, stats, spatial, linalg\n",
    "from pygsp import graphs, filters, plotting\n",
    "from mpl_toolkits.basemap import Basemap\n",
    "import sklearn\n",
    "import itertools\n",
    "import matplotlib as mpl\n",
    "from sklearn.cluster import DBSCAN\n",
    "from sklearn.preprocessing import StandardScaler\n",
    "from datetime import datetime, timedelta\n",
    "plt.rcParams['figure.figsize'] = (17, 5)"
   ]
  },
  {
   "cell_type": "code",
   "execution_count": 2,
   "metadata": {
    "collapsed": true
   },
   "outputs": [],
   "source": [
    "def read_tle(tle_file):\n",
    "    tle = open(tle_file)\n",
    "    lines = tle.readlines()\n",
    "    return lines"
   ]
  },
  {
   "cell_type": "code",
   "execution_count": 3,
   "metadata": {
    "collapsed": true
   },
   "outputs": [],
   "source": [
    "def compute_tle_informations(lines):\n",
    "    numb_element = len(lines)\n",
    "    names = []\n",
    "    long = []\n",
    "    lat = []\n",
    "    elevation_km = []\n",
    "    for i in range(0,numb_element-1,3):\n",
    "        temp = ephem.readtle(lines[i], lines[i+1], lines[i+2])\n",
    "        temp.compute('2017/10/12')\n",
    "        try:\n",
    "            long.append(temp.sublong*180/pi)\n",
    "            lat.append(temp.sublat*180/pi)\n",
    "            elevation_km.append(temp.elevation/1000)\n",
    "            names.append(temp.name[2:])\n",
    "        except:\n",
    "            print('Index number {} is not compatible to perform computation' .format(i))\n",
    "    return names,long,lat,elevation_km"
   ]
  },
  {
   "cell_type": "code",
   "execution_count": 4,
   "metadata": {
    "collapsed": true
   },
   "outputs": [],
   "source": [
    "def satellite_orbit(name):\n",
    "    orbit_point = []\n",
    "    line_1, line_2 = dict_tle[name]\n",
    "    period = int(sioi[sioi.OBJECT_NAME == name].PERIOD.values[0])\n",
    "    delta_t = int(period*60/nb_point)\n",
    "    delta_t = timedelta(seconds = delta_t)\n",
    "    time = datetime(2017,10,12)\n",
    "    l1, l2 = dict_tle[name]\n",
    "    temp = ephem.readtle(name, l1, l2)\n",
    "    for i in range(0,200):\n",
    "        time = time + delta_t\n",
    "        temp.compute(time)\n",
    "        try:\n",
    "            lat = temp.sublat*180/pi\n",
    "            long = temp.sublong*180/pi\n",
    "            orbit_point.append((lat,long))\n",
    "        except:\n",
    "            print(\"ERROR\")\n",
    "    return orbit_point"
   ]
  },
  {
   "cell_type": "code",
   "execution_count": 5,
   "metadata": {
    "collapsed": true
   },
   "outputs": [],
   "source": [
    "def compute_grids(res):\n",
    "    orbit_grids= []\n",
    "    vertical_offset =90\n",
    "    horizontal_offset = 180\n",
    "    shape = (180,360)\n",
    "    coverage_width = range(-7, 7)\n",
    "    for stats in res:\n",
    "        grid = np.zeros(shape)\n",
    "        for lat, long in stats:\n",
    "            lat = round(lat) + vertical_offset\n",
    "            long = round(long) + horizontal_offset\n",
    "            for i in coverage_width:\n",
    "                for j in coverage_width:\n",
    "                    grid[(lat+i)%shape[0]][(long+j)%shape[1]] = 1\n",
    "        orbit_grids.append(grid)\n",
    "    return orbit_grids"
   ]
  },
  {
   "cell_type": "code",
   "execution_count": 6,
   "metadata": {
    "collapsed": true
   },
   "outputs": [],
   "source": [
    "def plot_map(data_final,labels1=None,label_value=None):\n",
    "    plt.figure(figsize=(20,10))\n",
    "    eq_map = Basemap(projection='robin', resolution = 'l', area_thresh = 1000.0,\n",
    "                  lat_0=0,lon_0=0)\n",
    "    eq_map.drawcoastlines()\n",
    "    eq_map.drawcountries()\n",
    "    eq_map.bluemarble()\n",
    "    eq_map.drawmapboundary()\n",
    "    eq_map.drawmeridians(np.arange(0, 360, 30))\n",
    "    eq_map.drawparallels(np.arange(-90, 90, 30))\n",
    "\n",
    "    if labels1 is not None:\n",
    "        long = data_final['Longitude [°]'].values[labels1==label_value]\n",
    "        lat = data_final['Latitude [°]'].values[labels1==label_value]\n",
    "    else:\n",
    "        long = data_final['Longitude [°]'].values\n",
    "        lat = data_final['Latitude [°]'].values\n",
    "    lons,lats = eq_map(long,lat)\n",
    "    eq_map.scatter(lons, lats, marker = 'o', color='y', zorder=1)\n",
    "    plt.show()"
   ]
  },
  {
   "cell_type": "code",
   "execution_count": 7,
   "metadata": {
    "collapsed": true
   },
   "outputs": [],
   "source": [
    "def dbscan_func(G,epsilon,mn,labels=None,label_value=None):\n",
    "    centers = [[1, 1], [-1, -1], [1, -1]]\n",
    "    \n",
    "    if labels is not None:\n",
    "        X = G.coords[labels==label_value]\n",
    "    else:\n",
    "        X = G.coords\n",
    "        \n",
    "    X = StandardScaler().fit_transform(X)\n",
    "    db = DBSCAN(eps= epsilon, min_samples = mn).fit(X)\n",
    "    core_samples_mask = np.zeros_like(db.labels_, dtype=bool)\n",
    "    core_samples_mask[db.core_sample_indices_] = True\n",
    "    labels1 = db.labels_\n",
    "\n",
    "    n_clusters_ = len(set(labels1)) - (1 if -1 in labels1 else 0)\n",
    "    unique_labels = set(labels1)\n",
    "    colors = [plt.cm.Spectral(each)\n",
    "              for each in np.linspace(0, 1, len(unique_labels))]\n",
    "    for k, col in zip(unique_labels, colors):\n",
    "        if k == -1:\n",
    "            # Black used for noise.\n",
    "            col = [0, 0, 0, 1]\n",
    "\n",
    "        class_member_mask = (labels1 == k)\n",
    "\n",
    "        xy = X[class_member_mask & core_samples_mask]\n",
    "        plt.plot(xy[:, 0], xy[:, 1], 'o', markerfacecolor=tuple(col),\n",
    "                 markeredgecolor='k', markersize=14)\n",
    "\n",
    "        xy = X[class_member_mask & ~core_samples_mask]\n",
    "        plt.plot(xy[:, 0], xy[:, 1], 'o', markerfacecolor=tuple(col),\n",
    "                 markeredgecolor='k', markersize=6)\n",
    "\n",
    "    plt.title('Estimated number of clusters: %d' % n_clusters_)\n",
    "    plt.show()\n",
    "    return labels1"
   ]
  },
  {
   "cell_type": "code",
   "execution_count": 8,
   "metadata": {
    "collapsed": true
   },
   "outputs": [],
   "source": [
    "def compute_weight(sat1,sat2):\n",
    "    tot = np.logical_and(sat1,sat2)\n",
    "    return np.sum(tot)"
   ]
  },
  {
   "cell_type": "code",
   "execution_count": 9,
   "metadata": {
    "collapsed": true
   },
   "outputs": [],
   "source": [
    "def compute_adja(orbit_grids):\n",
    "    adja = np.zeros([len(orbit_grids),len(orbit_grids)])\n",
    "    for n1,i1 in enumerate(orbit_grids):\n",
    "        for n2,i2 in enumerate(orbit_grids[n1+1:]):\n",
    "            adja[n1,n2+n1+1] = compute_weight(i1,i2)\n",
    "    return adja + np.transpose(adja)"
   ]
  },
  {
   "cell_type": "markdown",
   "metadata": {},
   "source": [
    "# 2. Data Acquisition"
   ]
  },
  {
   "cell_type": "code",
   "execution_count": null,
   "metadata": {
    "collapsed": true
   },
   "outputs": [],
   "source": []
  },
  {
   "cell_type": "markdown",
   "metadata": {},
   "source": [
    "# 3. Data Exploration"
   ]
  },
  {
   "cell_type": "code",
   "execution_count": 11,
   "metadata": {},
   "outputs": [
    {
     "name": "stdout",
     "output_type": "stream",
     "text": [
      "Index number 5361 is not compatible to perform computation\n",
      "Index number 49563 is not compatible to perform computation\n"
     ]
    }
   ],
   "source": [
    "lines_tot = read_tle('Dataset/satellite_tle_current.txt')\n",
    "assert [lines_tot.count('\\n') == 0]\n",
    "\n",
    "names,long,lat,elevation_km = compute_tle_informations(lines_tot)\n",
    "data = pd.DataFrame(np.transpose([names,long,lat,elevation_km]))\n",
    "data.columns = ['OBJECT_NAME','Longitude [°]','Latitude [°]','Elevation [km]']"
   ]
  },
  {
   "cell_type": "code",
   "execution_count": 12,
   "metadata": {},
   "outputs": [
    {
     "name": "stdout",
     "output_type": "stream",
     "text": [
      "Loading formatted geocoded file...\n"
     ]
    }
   ],
   "source": [
    "coord = list(zip(lat,long))\n",
    "result = rg.search(coord)\n",
    "countries = [temp['cc'] for temp in result]\n",
    "data['Country'] = countries"
   ]
  },
  {
   "cell_type": "code",
   "execution_count": 18,
   "metadata": {},
   "outputs": [
    {
     "data": {
      "text/html": [
       "<div>\n",
       "<style>\n",
       "    .dataframe thead tr:only-child th {\n",
       "        text-align: right;\n",
       "    }\n",
       "\n",
       "    .dataframe thead th {\n",
       "        text-align: left;\n",
       "    }\n",
       "\n",
       "    .dataframe tbody tr th {\n",
       "        vertical-align: top;\n",
       "    }\n",
       "</style>\n",
       "<table border=\"1\" class=\"dataframe\">\n",
       "  <thead>\n",
       "    <tr style=\"text-align: right;\">\n",
       "      <th></th>\n",
       "      <th>OBJECT_NAME</th>\n",
       "      <th>Longitude [°]</th>\n",
       "      <th>Latitude [°]</th>\n",
       "      <th>Elevation [km]</th>\n",
       "      <th>Country</th>\n",
       "    </tr>\n",
       "  </thead>\n",
       "  <tbody>\n",
       "    <tr>\n",
       "      <th>0</th>\n",
       "      <td>VANGUARD 1</td>\n",
       "      <td>-63.01315328238157</td>\n",
       "      <td>-26.65173623575367</td>\n",
       "      <td>950.1053125</td>\n",
       "      <td>AR</td>\n",
       "    </tr>\n",
       "    <tr>\n",
       "      <th>1</th>\n",
       "      <td>VANGUARD 2</td>\n",
       "      <td>33.607191075144456</td>\n",
       "      <td>-32.25819456312109</td>\n",
       "      <td>2825.77825</td>\n",
       "      <td>ZA</td>\n",
       "    </tr>\n",
       "    <tr>\n",
       "      <th>2</th>\n",
       "      <td>VANGUARD R/B</td>\n",
       "      <td>158.90670062542114</td>\n",
       "      <td>1.4622271746404283</td>\n",
       "      <td>746.4226875</td>\n",
       "      <td>FM</td>\n",
       "    </tr>\n",
       "    <tr>\n",
       "      <th>3</th>\n",
       "      <td>VANGUARD R/B</td>\n",
       "      <td>-117.00344908625789</td>\n",
       "      <td>12.395302654786787</td>\n",
       "      <td>2056.953375</td>\n",
       "      <td>MX</td>\n",
       "    </tr>\n",
       "    <tr>\n",
       "      <th>4</th>\n",
       "      <td>VANGUARD 3</td>\n",
       "      <td>-14.979412519707317</td>\n",
       "      <td>-30.811335100669776</td>\n",
       "      <td>3271.14</td>\n",
       "      <td>SH</td>\n",
       "    </tr>\n",
       "  </tbody>\n",
       "</table>\n",
       "</div>"
      ],
      "text/plain": [
       "    OBJECT_NAME        Longitude [°]         Latitude [°] Elevation [km]  \\\n",
       "0    VANGUARD 1   -63.01315328238157   -26.65173623575367    950.1053125   \n",
       "1    VANGUARD 2   33.607191075144456   -32.25819456312109     2825.77825   \n",
       "2  VANGUARD R/B   158.90670062542114   1.4622271746404283    746.4226875   \n",
       "3  VANGUARD R/B  -117.00344908625789   12.395302654786787    2056.953375   \n",
       "4    VANGUARD 3  -14.979412519707317  -30.811335100669776        3271.14   \n",
       "\n",
       "  Country  \n",
       "0      AR  \n",
       "1      ZA  \n",
       "2      FM  \n",
       "3      MX  \n",
       "4      SH  "
      ]
     },
     "execution_count": 18,
     "metadata": {},
     "output_type": "execute_result"
    }
   ],
   "source": [
    "data.head()"
   ]
  },
  {
   "cell_type": "code",
   "execution_count": 16,
   "metadata": {},
   "outputs": [
    {
     "data": {
      "image/png": "[encoded data removed]",
      "text/plain": [
       "<matplotlib.figure.Figure at 0x119f722b0>"
      ]
     },
     "metadata": {},
     "output_type": "display_data"
    }
   ],
   "source": [
    "sioi = pd.read_csv(\"Dataset/satellites_in_orbit_info.csv\")\n",
    "sioi[\"LAUNCH\"]= pd.to_datetime(sioi[\"LAUNCH\"]).apply(lambda x: x.strftime('%Y'))\n",
    "sioi.groupby(\"LAUNCH\").size().plot(kind=\"bar\", figsize=(20,10))\n",
    "plt.show()"
   ]
  },
  {
   "cell_type": "code",
   "execution_count": null,
   "metadata": {
    "collapsed": true
   },
   "outputs": [],
   "source": []
  }
 ],
 "metadata": {
  "kernelspec": {
   "display_name": "Python 3",
   "language": "python",
   "name": "python3"
  },
  "language_info": {
   "codemirror_mode": {
    "name": "ipython",
    "version": 3
   },
   "file_extension": ".py",
   "mimetype": "text/x-python",
   "name": "python",
   "nbconvert_exporter": "python",
   "pygments_lexer": "ipython3",
   "version": "3.6.2"
  }
 },
 "nbformat": 4,
 "nbformat_minor": 2
}
