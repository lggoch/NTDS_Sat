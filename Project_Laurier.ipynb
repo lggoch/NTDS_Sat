{
 "cells": [
  {
   "cell_type": "code",
   "execution_count": 1,
   "metadata": {
    "ExecuteTime": {
     "end_time": "2018-01-21T23:44:02.326137Z",
     "start_time": "2018-01-21T23:44:01.520173Z"
    }
   },
   "outputs": [],
   "source": [
    "%matplotlib inline\n",
    "\n",
    "from tqdm import tqdm\n",
    "import json\n",
    "\n",
    "import numpy as np\n",
    "import pandas as pd\n",
    "\n",
    "import scipy.sparse.linalg\n",
    "from scipy import sparse, stats, spatial\n",
    "\n",
    "import networkx as nx\n",
    "from networkx.algorithms import community\n",
    "\n",
    "import matplotlib.pyplot as plt\n",
    "import seaborn as sns\n",
    "\n",
    "import random\n",
    "\n",
    "from helpers_satcat import *"
   ]
  },
  {
   "cell_type": "markdown",
   "metadata": {
    "collapsed": true
   },
   "source": [
    "## SATCAT launch site analysis "
   ]
  },
  {
   "cell_type": "markdown",
   "metadata": {},
   "source": [
    "In this analysis, we will attempt to identify from which launch site a satellite has been launched from informations provided by the SATCAT database, such as its orbital parameters, country of origin, nature, etc.\n",
    "\n",
    "The goal will be to identify satellites launch site by using only a subset of labeled satellites.\n",
    "We want to see what type of precision we can obtain with graph-based analysis.\n"
   ]
  },
  {
   "cell_type": "markdown",
   "metadata": {},
   "source": [
    "### SATCAT data extraction"
   ]
  },
  {
   "cell_type": "markdown",
   "metadata": {},
   "source": [
    "To have a cleaner notebook, we extracted the data from the SATCAT dataset using an external script, called *create_satcat_json.py*.\n",
    "\n",
    "This script generates a json file containing the formatted SATCAT data and more complete information on the files."
   ]
  },
  {
   "cell_type": "markdown",
   "metadata": {},
   "source": [
    "#### Extract celestrack SATCAT data"
   ]
  },
  {
   "cell_type": "code",
   "execution_count": 2,
   "metadata": {
    "ExecuteTime": {
     "end_time": "2018-01-21T23:44:02.589218Z",
     "start_time": "2018-01-21T23:44:02.327737Z"
    },
    "collapsed": true
   },
   "outputs": [],
   "source": [
    "with open(\"Dataset/satcat_info.json\") as f:\n",
    "    satcat_info_json = json.load(f)"
   ]
  },
  {
   "cell_type": "code",
   "execution_count": 3,
   "metadata": {
    "ExecuteTime": {
     "end_time": "2018-01-21T23:44:02.719030Z",
     "start_time": "2018-01-21T23:44:02.590679Z"
    }
   },
   "outputs": [
    {
     "data": {
      "text/html": [
       "<div>\n",
       "<style>\n",
       "    .dataframe thead tr:only-child th {\n",
       "        text-align: right;\n",
       "    }\n",
       "\n",
       "    .dataframe thead th {\n",
       "        text-align: left;\n",
       "    }\n",
       "\n",
       "    .dataframe tbody tr th {\n",
       "        vertical-align: top;\n",
       "    }\n",
       "</style>\n",
       "<table border=\"1\" class=\"dataframe\">\n",
       "  <thead>\n",
       "    <tr style=\"text-align: right;\">\n",
       "      <th></th>\n",
       "      <th>apogee</th>\n",
       "      <th>decay_date</th>\n",
       "      <th>inclination</th>\n",
       "      <th>launch_date</th>\n",
       "      <th>launch_nbr</th>\n",
       "      <th>launch_piece</th>\n",
       "      <th>launch_site</th>\n",
       "      <th>launch_year</th>\n",
       "      <th>multiple_name_flag</th>\n",
       "      <th>name</th>\n",
       "      <th>operational_status</th>\n",
       "      <th>orbital_period</th>\n",
       "      <th>orbital_status</th>\n",
       "      <th>payload_flag</th>\n",
       "      <th>perigee</th>\n",
       "      <th>radar_cross_section</th>\n",
       "      <th>source</th>\n",
       "    </tr>\n",
       "    <tr>\n",
       "      <th>NORAD</th>\n",
       "      <th></th>\n",
       "      <th></th>\n",
       "      <th></th>\n",
       "      <th></th>\n",
       "      <th></th>\n",
       "      <th></th>\n",
       "      <th></th>\n",
       "      <th></th>\n",
       "      <th></th>\n",
       "      <th></th>\n",
       "      <th></th>\n",
       "      <th></th>\n",
       "      <th></th>\n",
       "      <th></th>\n",
       "      <th></th>\n",
       "      <th></th>\n",
       "      <th></th>\n",
       "    </tr>\n",
       "  </thead>\n",
       "  <tbody>\n",
       "    <tr>\n",
       "      <th>1</th>\n",
       "      <td>938.0</td>\n",
       "      <td>1957-12-01</td>\n",
       "      <td>65.1</td>\n",
       "      <td>1957-10-04</td>\n",
       "      <td>1</td>\n",
       "      <td>A</td>\n",
       "      <td>TYMSC</td>\n",
       "      <td>1957</td>\n",
       "      <td>False</td>\n",
       "      <td>SL-1 R/B</td>\n",
       "      <td>Decayed</td>\n",
       "      <td>96.2</td>\n",
       "      <td>EA</td>\n",
       "      <td>False</td>\n",
       "      <td>214.0</td>\n",
       "      <td>20.420</td>\n",
       "      <td>CIS</td>\n",
       "    </tr>\n",
       "    <tr>\n",
       "      <th>2</th>\n",
       "      <td>945.0</td>\n",
       "      <td>1958-01-03</td>\n",
       "      <td>65.0</td>\n",
       "      <td>1957-10-04</td>\n",
       "      <td>1</td>\n",
       "      <td>B</td>\n",
       "      <td>TYMSC</td>\n",
       "      <td>1957</td>\n",
       "      <td>False</td>\n",
       "      <td>SPUTNIK 1</td>\n",
       "      <td>Decayed</td>\n",
       "      <td>96.1</td>\n",
       "      <td>EA</td>\n",
       "      <td>True</td>\n",
       "      <td>227.0</td>\n",
       "      <td>NaN</td>\n",
       "      <td>CIS</td>\n",
       "    </tr>\n",
       "    <tr>\n",
       "      <th>3</th>\n",
       "      <td>1659.0</td>\n",
       "      <td>1958-04-14</td>\n",
       "      <td>65.3</td>\n",
       "      <td>1957-11-03</td>\n",
       "      <td>2</td>\n",
       "      <td>A</td>\n",
       "      <td>TYMSC</td>\n",
       "      <td>1957</td>\n",
       "      <td>False</td>\n",
       "      <td>SPUTNIK 2</td>\n",
       "      <td>Decayed</td>\n",
       "      <td>103.7</td>\n",
       "      <td>EA</td>\n",
       "      <td>True</td>\n",
       "      <td>211.0</td>\n",
       "      <td>0.080</td>\n",
       "      <td>CIS</td>\n",
       "    </tr>\n",
       "    <tr>\n",
       "      <th>4</th>\n",
       "      <td>215.0</td>\n",
       "      <td>1970-03-31</td>\n",
       "      <td>33.2</td>\n",
       "      <td>1958-02-01</td>\n",
       "      <td>1</td>\n",
       "      <td>A</td>\n",
       "      <td>AFETR</td>\n",
       "      <td>1958</td>\n",
       "      <td>False</td>\n",
       "      <td>EXPLORER 1</td>\n",
       "      <td>Decayed</td>\n",
       "      <td>88.5</td>\n",
       "      <td>EA</td>\n",
       "      <td>True</td>\n",
       "      <td>183.0</td>\n",
       "      <td>NaN</td>\n",
       "      <td>US</td>\n",
       "    </tr>\n",
       "    <tr>\n",
       "      <th>5</th>\n",
       "      <td>3834.0</td>\n",
       "      <td></td>\n",
       "      <td>34.3</td>\n",
       "      <td>1958-03-17</td>\n",
       "      <td>2</td>\n",
       "      <td>B</td>\n",
       "      <td>AFETR</td>\n",
       "      <td>1958</td>\n",
       "      <td>False</td>\n",
       "      <td>VANGUARD 1</td>\n",
       "      <td>Unknown</td>\n",
       "      <td>132.8</td>\n",
       "      <td>EA</td>\n",
       "      <td>True</td>\n",
       "      <td>650.0</td>\n",
       "      <td>0.122</td>\n",
       "      <td>US</td>\n",
       "    </tr>\n",
       "  </tbody>\n",
       "</table>\n",
       "</div>"
      ],
      "text/plain": [
       "       apogee  decay_date  inclination launch_date  launch_nbr launch_piece  \\\n",
       "NORAD                                                                         \n",
       "1       938.0  1957-12-01         65.1  1957-10-04           1          A     \n",
       "2       945.0  1958-01-03         65.0  1957-10-04           1          B     \n",
       "3      1659.0  1958-04-14         65.3  1957-11-03           2          A     \n",
       "4       215.0  1970-03-31         33.2  1958-02-01           1          A     \n",
       "5      3834.0                     34.3  1958-03-17           2          B     \n",
       "\n",
       "      launch_site  launch_year  multiple_name_flag        name  \\\n",
       "NORAD                                                            \n",
       "1           TYMSC         1957               False    SL-1 R/B   \n",
       "2           TYMSC         1957               False   SPUTNIK 1   \n",
       "3           TYMSC         1957               False   SPUTNIK 2   \n",
       "4           AFETR         1958               False  EXPLORER 1   \n",
       "5           AFETR         1958               False  VANGUARD 1   \n",
       "\n",
       "      operational_status  orbital_period orbital_status  payload_flag  \\\n",
       "NORAD                                                                   \n",
       "1                Decayed            96.2             EA         False   \n",
       "2                Decayed            96.1             EA          True   \n",
       "3                Decayed           103.7             EA          True   \n",
       "4                Decayed            88.5             EA          True   \n",
       "5                Unknown           132.8             EA          True   \n",
       "\n",
       "       perigee  radar_cross_section source  \n",
       "NORAD                                       \n",
       "1        214.0               20.420    CIS  \n",
       "2        227.0                  NaN    CIS  \n",
       "3        211.0                0.080    CIS  \n",
       "4        183.0                  NaN     US  \n",
       "5        650.0                0.122     US  "
      ]
     },
     "metadata": {},
     "output_type": "display_data"
    }
   ],
   "source": [
    "# Extract the main dataset and put it in a dataframe\n",
    "sat_info_array = satcat_info_json[\"sat_data\"]\n",
    "satcat_df = pd.DataFrame(sat_info_array)\n",
    "satcat_df = satcat_df.set_index(\"NORAD\")\n",
    "display(satcat_df.head(5))"
   ]
  },
  {
   "cell_type": "code",
   "execution_count": 4,
   "metadata": {
    "ExecuteTime": {
     "end_time": "2018-01-21T23:44:02.724286Z",
     "start_time": "2018-01-21T23:44:02.721149Z"
    },
    "collapsed": true
   },
   "outputs": [],
   "source": [
    "# Extract complementary information dictionary\n",
    "operational_status_dict = satcat_info_json[\"operational_status\"]\n",
    "launch_site_full_name_dict = satcat_info_json[\"launch_site\"]\n",
    "source_full_name_dict = satcat_info_json[\"source\"]"
   ]
  },
  {
   "cell_type": "markdown",
   "metadata": {
    "ExecuteTime": {
     "end_time": "2018-01-20T15:17:32.130593Z",
     "start_time": "2018-01-20T15:17:32.127895Z"
    }
   },
   "source": [
    "#### Fill NaN in satcat data"
   ]
  },
  {
   "cell_type": "code",
   "execution_count": 5,
   "metadata": {
    "ExecuteTime": {
     "end_time": "2018-01-21T23:44:02.794862Z",
     "start_time": "2018-01-21T23:44:02.726351Z"
    }
   },
   "outputs": [
    {
     "data": {
      "text/html": [
       "<div>\n",
       "<style>\n",
       "    .dataframe thead tr:only-child th {\n",
       "        text-align: right;\n",
       "    }\n",
       "\n",
       "    .dataframe thead th {\n",
       "        text-align: left;\n",
       "    }\n",
       "\n",
       "    .dataframe tbody tr th {\n",
       "        vertical-align: top;\n",
       "    }\n",
       "</style>\n",
       "<table border=\"1\" class=\"dataframe\">\n",
       "  <thead>\n",
       "    <tr style=\"text-align: right;\">\n",
       "      <th></th>\n",
       "      <th>apogee</th>\n",
       "      <th>decay_date</th>\n",
       "      <th>inclination</th>\n",
       "      <th>launch_date</th>\n",
       "      <th>launch_nbr</th>\n",
       "      <th>launch_piece</th>\n",
       "      <th>launch_site</th>\n",
       "      <th>launch_year</th>\n",
       "      <th>multiple_name_flag</th>\n",
       "      <th>name</th>\n",
       "      <th>operational_status</th>\n",
       "      <th>orbital_period</th>\n",
       "      <th>orbital_status</th>\n",
       "      <th>payload_flag</th>\n",
       "      <th>perigee</th>\n",
       "      <th>radar_cross_section</th>\n",
       "      <th>source</th>\n",
       "    </tr>\n",
       "    <tr>\n",
       "      <th>NORAD</th>\n",
       "      <th></th>\n",
       "      <th></th>\n",
       "      <th></th>\n",
       "      <th></th>\n",
       "      <th></th>\n",
       "      <th></th>\n",
       "      <th></th>\n",
       "      <th></th>\n",
       "      <th></th>\n",
       "      <th></th>\n",
       "      <th></th>\n",
       "      <th></th>\n",
       "      <th></th>\n",
       "      <th></th>\n",
       "      <th></th>\n",
       "      <th></th>\n",
       "      <th></th>\n",
       "    </tr>\n",
       "  </thead>\n",
       "  <tbody>\n",
       "    <tr>\n",
       "      <th>1</th>\n",
       "      <td>938.0</td>\n",
       "      <td>1957-12-01</td>\n",
       "      <td>65.1</td>\n",
       "      <td>1957-10-04</td>\n",
       "      <td>1</td>\n",
       "      <td>A</td>\n",
       "      <td>TYMSC</td>\n",
       "      <td>1957</td>\n",
       "      <td>False</td>\n",
       "      <td>SL-1 R/B</td>\n",
       "      <td>Decayed</td>\n",
       "      <td>96.2</td>\n",
       "      <td>EA</td>\n",
       "      <td>False</td>\n",
       "      <td>214.0</td>\n",
       "      <td>20.420</td>\n",
       "      <td>CIS</td>\n",
       "    </tr>\n",
       "    <tr>\n",
       "      <th>2</th>\n",
       "      <td>945.0</td>\n",
       "      <td>1958-01-03</td>\n",
       "      <td>65.0</td>\n",
       "      <td>1957-10-04</td>\n",
       "      <td>1</td>\n",
       "      <td>B</td>\n",
       "      <td>TYMSC</td>\n",
       "      <td>1957</td>\n",
       "      <td>False</td>\n",
       "      <td>SPUTNIK 1</td>\n",
       "      <td>Decayed</td>\n",
       "      <td>96.1</td>\n",
       "      <td>EA</td>\n",
       "      <td>True</td>\n",
       "      <td>227.0</td>\n",
       "      <td>0.000</td>\n",
       "      <td>CIS</td>\n",
       "    </tr>\n",
       "    <tr>\n",
       "      <th>3</th>\n",
       "      <td>1659.0</td>\n",
       "      <td>1958-04-14</td>\n",
       "      <td>65.3</td>\n",
       "      <td>1957-11-03</td>\n",
       "      <td>2</td>\n",
       "      <td>A</td>\n",
       "      <td>TYMSC</td>\n",
       "      <td>1957</td>\n",
       "      <td>False</td>\n",
       "      <td>SPUTNIK 2</td>\n",
       "      <td>Decayed</td>\n",
       "      <td>103.7</td>\n",
       "      <td>EA</td>\n",
       "      <td>True</td>\n",
       "      <td>211.0</td>\n",
       "      <td>0.080</td>\n",
       "      <td>CIS</td>\n",
       "    </tr>\n",
       "    <tr>\n",
       "      <th>4</th>\n",
       "      <td>215.0</td>\n",
       "      <td>1970-03-31</td>\n",
       "      <td>33.2</td>\n",
       "      <td>1958-02-01</td>\n",
       "      <td>1</td>\n",
       "      <td>A</td>\n",
       "      <td>AFETR</td>\n",
       "      <td>1958</td>\n",
       "      <td>False</td>\n",
       "      <td>EXPLORER 1</td>\n",
       "      <td>Decayed</td>\n",
       "      <td>88.5</td>\n",
       "      <td>EA</td>\n",
       "      <td>True</td>\n",
       "      <td>183.0</td>\n",
       "      <td>0.000</td>\n",
       "      <td>US</td>\n",
       "    </tr>\n",
       "    <tr>\n",
       "      <th>5</th>\n",
       "      <td>3834.0</td>\n",
       "      <td></td>\n",
       "      <td>34.3</td>\n",
       "      <td>1958-03-17</td>\n",
       "      <td>2</td>\n",
       "      <td>B</td>\n",
       "      <td>AFETR</td>\n",
       "      <td>1958</td>\n",
       "      <td>False</td>\n",
       "      <td>VANGUARD 1</td>\n",
       "      <td>Unknown</td>\n",
       "      <td>132.8</td>\n",
       "      <td>EA</td>\n",
       "      <td>True</td>\n",
       "      <td>650.0</td>\n",
       "      <td>0.122</td>\n",
       "      <td>US</td>\n",
       "    </tr>\n",
       "  </tbody>\n",
       "</table>\n",
       "</div>"
      ],
      "text/plain": [
       "       apogee  decay_date  inclination launch_date  launch_nbr launch_piece  \\\n",
       "NORAD                                                                         \n",
       "1       938.0  1957-12-01         65.1  1957-10-04           1          A     \n",
       "2       945.0  1958-01-03         65.0  1957-10-04           1          B     \n",
       "3      1659.0  1958-04-14         65.3  1957-11-03           2          A     \n",
       "4       215.0  1970-03-31         33.2  1958-02-01           1          A     \n",
       "5      3834.0                     34.3  1958-03-17           2          B     \n",
       "\n",
       "      launch_site  launch_year  multiple_name_flag        name  \\\n",
       "NORAD                                                            \n",
       "1           TYMSC         1957               False    SL-1 R/B   \n",
       "2           TYMSC         1957               False   SPUTNIK 1   \n",
       "3           TYMSC         1957               False   SPUTNIK 2   \n",
       "4           AFETR         1958               False  EXPLORER 1   \n",
       "5           AFETR         1958               False  VANGUARD 1   \n",
       "\n",
       "      operational_status  orbital_period orbital_status  payload_flag  \\\n",
       "NORAD                                                                   \n",
       "1                Decayed            96.2             EA         False   \n",
       "2                Decayed            96.1             EA          True   \n",
       "3                Decayed           103.7             EA          True   \n",
       "4                Decayed            88.5             EA          True   \n",
       "5                Unknown           132.8             EA          True   \n",
       "\n",
       "       perigee  radar_cross_section source  \n",
       "NORAD                                       \n",
       "1        214.0               20.420    CIS  \n",
       "2        227.0                0.000    CIS  \n",
       "3        211.0                0.080    CIS  \n",
       "4        183.0                0.000     US  \n",
       "5        650.0                0.122     US  "
      ]
     },
     "metadata": {},
     "output_type": "display_data"
    }
   ],
   "source": [
    "satcat_df = satcat_df.fillna(value=0)\n",
    "display(satcat_df.head(5))"
   ]
  },
  {
   "cell_type": "markdown",
   "metadata": {},
   "source": [
    "### Data Exploration"
   ]
  },
  {
   "cell_type": "markdown",
   "metadata": {},
   "source": [
    "In this section, we want to see how the different parameters of the satellites behave.\n",
    "\n",
    "To do so, we will analyze the various parameters.\n",
    "We used a systematic approach, where for each parameter of interest, we did a short analysis"
   ]
  },
  {
   "cell_type": "markdown",
   "metadata": {},
   "source": [
    "#### Launch site "
   ]
  },
  {
   "cell_type": "code",
   "execution_count": 6,
   "metadata": {
    "ExecuteTime": {
     "end_time": "2018-01-21T23:44:02.805669Z",
     "start_time": "2018-01-21T23:44:02.796923Z"
    },
    "collapsed": true
   },
   "outputs": [],
   "source": [
    "# Create dict to transform launch site to numerical value\n",
    "num_launch_site_dict = {}\n",
    "for index,site in enumerate(satcat_df.launch_site.unique()):\n",
    "    num_launch_site_dict[site] = index"
   ]
  },
  {
   "cell_type": "code",
   "execution_count": 7,
   "metadata": {
    "ExecuteTime": {
     "end_time": "2018-01-21T23:44:02.842510Z",
     "start_time": "2018-01-21T23:44:02.807762Z"
    },
    "collapsed": true
   },
   "outputs": [],
   "source": [
    "num_launch_site = satcat_df.launch_site.map(lambda x:num_launch_site_dict[x])\n",
    "num_launch_site.name = \"num_launch_site\"\n",
    "satcat_df = pd.concat([satcat_df,num_launch_site], axis=1)"
   ]
  },
  {
   "cell_type": "code",
   "execution_count": 8,
   "metadata": {
    "ExecuteTime": {
     "end_time": "2018-01-21T23:44:02.859483Z",
     "start_time": "2018-01-21T23:44:02.844327Z"
    },
    "scrolled": true
   },
   "outputs": [
    {
     "data": {
      "text/plain": [
       "TYMSC    11241\n",
       "PLMSC    11160\n",
       "AFWTR     6982\n",
       "TAISC     4380\n",
       "AFETR     3271\n",
       "Name: launch_site, dtype: int64"
      ]
     },
     "metadata": {},
     "output_type": "display_data"
    }
   ],
   "source": [
    "# How many launch per site\n",
    "launches_per_site = satcat_df.launch_site.value_counts()\n",
    "display(launches_per_site.head(5))"
   ]
  },
  {
   "cell_type": "code",
   "execution_count": 9,
   "metadata": {
    "ExecuteTime": {
     "end_time": "2018-01-21T23:44:03.179062Z",
     "start_time": "2018-01-21T23:44:02.860971Z"
    },
    "run_control": {
     "marked": true
    },
    "scrolled": true
   },
   "outputs": [
    {
     "data": {
      "image/png": "[encoded data removed]",
      "text/plain": [
       "<matplotlib.figure.Figure at 0x7f623433e908>"
      ]
     },
     "metadata": {},
     "output_type": "display_data"
    }
   ],
   "source": [
    "sns.distplot(launches_per_site.values,kde=False, rug=True)\n",
    "plt.savefig(\"fig/satcat_launches_per_site.png\")\n",
    "plt.show()"
   ]
  },
  {
   "cell_type": "markdown",
   "metadata": {
    "ExecuteTime": {
     "end_time": "2018-01-20T12:52:57.679109Z",
     "start_time": "2018-01-20T12:52:57.676989Z"
    }
   },
   "source": [
    "#### Country of origin"
   ]
  },
  {
   "cell_type": "code",
   "execution_count": 10,
   "metadata": {
    "ExecuteTime": {
     "end_time": "2018-01-21T23:44:03.186721Z",
     "start_time": "2018-01-21T23:44:03.180710Z"
    },
    "collapsed": true
   },
   "outputs": [],
   "source": [
    "# Create dict to transform launch site to numerical value\n",
    "num_source_dict = {}\n",
    "for index,site in enumerate(satcat_df.source.unique()):\n",
    "    num_source_dict[site] = index"
   ]
  },
  {
   "cell_type": "code",
   "execution_count": 11,
   "metadata": {
    "ExecuteTime": {
     "end_time": "2018-01-21T23:44:03.207866Z",
     "start_time": "2018-01-21T23:44:03.188057Z"
    }
   },
   "outputs": [
    {
     "data": {
      "text/plain": [
       "CIS    21491\n",
       "US     11387\n",
       "PRC     5192\n",
       "FR      1263\n",
       "IND      536\n",
       "Name: source, dtype: int64"
      ]
     },
     "metadata": {},
     "output_type": "display_data"
    }
   ],
   "source": [
    "# How many launch per sources\n",
    "launches_per_source = satcat_df.source.value_counts()\n",
    "display(launches_per_source.head(5))"
   ]
  },
  {
   "cell_type": "code",
   "execution_count": 12,
   "metadata": {
    "ExecuteTime": {
     "end_time": "2018-01-21T23:44:03.629811Z",
     "start_time": "2018-01-21T23:44:03.209301Z"
    },
    "run_control": {
     "marked": true
    }
   },
   "outputs": [
    {
     "data": {
      "image/png": "[encoded data removed]",
      "text/plain": [
       "<matplotlib.figure.Figure at 0x7f6233063ef0>"
      ]
     },
     "metadata": {},
     "output_type": "display_data"
    }
   ],
   "source": [
    "sns.distplot(launches_per_source.values,kde=False, rug=True)\n",
    "plt.savefig(\"fig/satcat_launches_per_source_count.png\")\n",
    "plt.show()"
   ]
  },
  {
   "cell_type": "markdown",
   "metadata": {},
   "source": [
    "#### Operational Status"
   ]
  },
  {
   "cell_type": "code",
   "execution_count": 13,
   "metadata": {
    "ExecuteTime": {
     "end_time": "2018-01-21T23:44:03.638863Z",
     "start_time": "2018-01-21T23:44:03.631779Z"
    }
   },
   "outputs": [
    {
     "name": "stdout",
     "output_type": "stream",
     "text": [
      "{'Decayed': 0, 'Unknown': 1, 'Nonoperational': 2, 'Operational': 3, 'Partially Operational': 4, 'Backup/Standby': 5, 'Spare': 6, 'Extended Mission': 7}\n"
     ]
    }
   ],
   "source": [
    "num_operational_status_dict = {}\n",
    "for index, status in enumerate(satcat_df.operational_status.unique()):\n",
    "    num_operational_status_dict[status] = index\n",
    "print(num_operational_status_dict)"
   ]
  },
  {
   "cell_type": "code",
   "execution_count": 14,
   "metadata": {
    "ExecuteTime": {
     "end_time": "2018-01-21T23:44:03.658358Z",
     "start_time": "2018-01-21T23:44:03.640426Z"
    }
   },
   "outputs": [
    {
     "data": {
      "text/plain": [
       "Decayed                  23970\n",
       "Unknown                  15041\n",
       "Operational               1754\n",
       "Nonoperational            1070\n",
       "Partially Operational       53\n",
       "Backup/Standby              17\n",
       "Spare                        2\n",
       "Extended Mission             2\n",
       "Name: operational_status, dtype: int64"
      ]
     },
     "metadata": {},
     "output_type": "display_data"
    }
   ],
   "source": [
    "# How many satellites per operational status\n",
    "operational_status_count = satcat_df.operational_status.value_counts()\n",
    "display(operational_status_count)"
   ]
  },
  {
   "cell_type": "code",
   "execution_count": 15,
   "metadata": {
    "ExecuteTime": {
     "end_time": "2018-01-21T23:44:03.814387Z",
     "start_time": "2018-01-21T23:44:03.659691Z"
    },
    "run_control": {
     "marked": true
    }
   },
   "outputs": [
    {
     "data": {
      "image/png": "[encoded data removed]",
      "text/plain": [
       "<matplotlib.figure.Figure at 0x7f6232f2a0f0>"
      ]
     },
     "metadata": {},
     "output_type": "display_data"
    }
   ],
   "source": [
    "sns.distplot(operational_status_count.values,kde=False, rug=True)\n",
    "plt.savefig(\"fig/satcat_operational_status_count.png\")\n",
    "plt.show()"
   ]
  },
  {
   "cell_type": "markdown",
   "metadata": {},
   "source": [
    "#### Orbital status"
   ]
  },
  {
   "cell_type": "markdown",
   "metadata": {},
   "source": [
    "See: https://celestrak.com/satcat/satcat-format.asp \n",
    "Orbital Status Code for the meaning of the code"
   ]
  },
  {
   "cell_type": "code",
   "execution_count": 16,
   "metadata": {
    "ExecuteTime": {
     "end_time": "2018-01-21T23:44:03.822187Z",
     "start_time": "2018-01-21T23:44:03.816100Z"
    },
    "run_control": {
     "marked": true
    }
   },
   "outputs": [
    {
     "name": "stdout",
     "output_type": "stream",
     "text": [
      "8 \n",
      " ['EA' 'NEA' 'EA2' 'MO2' 'MA0' 'EL0' 'DOC' 'ISS']\n"
     ]
    }
   ],
   "source": [
    "orbital_statuses = satcat_df.orbital_status.unique()\n",
    "print(len(orbital_statuses), \"\\n\", orbital_statuses)"
   ]
  },
  {
   "cell_type": "code",
   "execution_count": 17,
   "metadata": {
    "ExecuteTime": {
     "end_time": "2018-01-21T23:44:03.830161Z",
     "start_time": "2018-01-21T23:44:03.823483Z"
    }
   },
   "outputs": [
    {
     "name": "stdout",
     "output_type": "stream",
     "text": [
      "{'EA': 0, 'NEA': 1, 'EA2': 2, 'MO2': 3, 'MA0': 4, 'EL0': 5, 'DOC': 6, 'ISS': 7}\n"
     ]
    }
   ],
   "source": [
    "num_orbital_status_dict = {}\n",
    "for index, status in enumerate(orbital_statuses):\n",
    "    num_orbital_status_dict[status] = index\n",
    "print(num_orbital_status_dict)"
   ]
  },
  {
   "cell_type": "code",
   "execution_count": 18,
   "metadata": {
    "ExecuteTime": {
     "end_time": "2018-01-21T23:44:03.848548Z",
     "start_time": "2018-01-21T23:44:03.831630Z"
    }
   },
   "outputs": [
    {
     "data": {
      "text/plain": [
       "EA     41832\n",
       "NEA       68\n",
       "ISS        4\n",
       "DOC        1\n",
       "MO2        1\n",
       "EL0        1\n",
       "EA2        1\n",
       "MA0        1\n",
       "Name: orbital_status, dtype: int64"
      ]
     },
     "metadata": {},
     "output_type": "display_data"
    }
   ],
   "source": [
    "# How many satellites per orbital status\n",
    "orbital_status_count = satcat_df.orbital_status.value_counts()\n",
    "display(orbital_status_count)"
   ]
  },
  {
   "cell_type": "code",
   "execution_count": 19,
   "metadata": {
    "ExecuteTime": {
     "end_time": "2018-01-21T23:44:04.100568Z",
     "start_time": "2018-01-21T23:44:03.850480Z"
    },
    "run_control": {
     "marked": true
    }
   },
   "outputs": [
    {
     "data": {
      "image/png": "[encoded data removed]",
      "text/plain": [
       "<matplotlib.figure.Figure at 0x7f623311d128>"
      ]
     },
     "metadata": {},
     "output_type": "display_data"
    }
   ],
   "source": [
    "sns.distplot(orbital_status_count.values,kde=False, rug=True)\n",
    "plt.savefig(\"fig/satcat_orbital_status_count.png\")\n",
    "plt.show()\n"
   ]
  },
  {
   "cell_type": "markdown",
   "metadata": {},
   "source": [
    "#### Orbital Parameters"
   ]
  },
  {
   "cell_type": "markdown",
   "metadata": {
    "ExecuteTime": {
     "end_time": "2018-01-21T21:58:40.511333Z",
     "start_time": "2018-01-21T21:58:40.508795Z"
    }
   },
   "source": [
    "For each orbital parameters we want to do a distribution analysis by launch site"
   ]
  },
  {
   "cell_type": "code",
   "execution_count": 20,
   "metadata": {
    "ExecuteTime": {
     "end_time": "2018-01-21T23:44:04.104328Z",
     "start_time": "2018-01-21T23:44:04.101920Z"
    },
    "collapsed": true
   },
   "outputs": [],
   "source": [
    "ORBITAL_PARAMETERS_COLS = [\"apogee\", \"inclination\", \"launch_year\", \"orbital_period\", \"perigee\"] "
   ]
  },
  {
   "cell_type": "code",
   "execution_count": 21,
   "metadata": {
    "ExecuteTime": {
     "end_time": "2018-01-21T23:44:07.921776Z",
     "start_time": "2018-01-21T23:44:04.105662Z"
    }
   },
   "outputs": [
    {
     "data": {
      "image/png": "[encoded data removed]",
      "text/plain": [
       "<matplotlib.figure.Figure at 0x7f6232cf3ba8>"
      ]
     },
     "metadata": {},
     "output_type": "display_data"
    }
   ],
   "source": [
    "fig, axes = plt.subplots(len(ORBITAL_PARAMETERS_COLS), 1, figsize=(10,20))\n",
    "\n",
    "for index, parameter in enumerate(ORBITAL_PARAMETERS_COLS):\n",
    "    axes[index].hist(satcat_df[parameter].values, bins=100);\n",
    "    axes[index].set_xscale(\"log\")\n",
    "    axes[index].set_yscale(\"log\")\n",
    "    axes[index].set_title(parameter)\n",
    "plt.savefig(\"fig/satcat_orbital_params.png\")\n",
    "plt.show()"
   ]
  },
  {
   "cell_type": "markdown",
   "metadata": {},
   "source": [
    "### Data reduction "
   ]
  },
  {
   "cell_type": "markdown",
   "metadata": {},
   "source": [
    "To do clustering, we want to reduce the complexity of the target clusters. \n",
    "\n",
    "To do so, we will first reduce the number of launch sites and/or sources.\n",
    "\n",
    "We tried two methods:\n",
    "\n",
    "    1. Using percentiles of the value counts, so it can be easily adapted depending on the desired results.\n",
    "    2. Using specific launch sites\n",
    "\n",
    "The method using specific launch sites \"AFETR\" and \"AFWTR\", which where the main launch sites for the United-States of America, gave the best results."
   ]
  },
  {
   "cell_type": "code",
   "execution_count": 22,
   "metadata": {
    "ExecuteTime": {
     "end_time": "2018-01-21T23:44:07.926710Z",
     "start_time": "2018-01-21T23:44:07.923305Z"
    },
    "collapsed": true
   },
   "outputs": [],
   "source": [
    "REDUCE_PER_PERCENTILE = False # Reduction per percentile didn't work as expected\n",
    "REDUCE_PER_LAUNCH_SITE = True # Attempt to segment by country: there might be reasons for using particular sites\n",
    "TARGET_PERCENTILE_LAUNCH_SITES = 90\n",
    "TARGET_PERCENTILE_SOURCES = 90\n",
    "LAUNCH_SITES = [\"AFETR\", \"AFWTR\"]"
   ]
  },
  {
   "cell_type": "code",
   "execution_count": 23,
   "metadata": {
    "ExecuteTime": {
     "end_time": "2018-01-21T23:44:07.936399Z",
     "start_time": "2018-01-21T23:44:07.928302Z"
    },
    "collapsed": true
   },
   "outputs": [],
   "source": [
    "if REDUCE_PER_PERCENTILE:\n",
    "    reduced_satcat_df = data_reduction_per_percentile(satcat_df, TARGET_PERCENTILE_LAUNCH_SITES, TARGET_PERCENTILE_SOURCES)"
   ]
  },
  {
   "cell_type": "code",
   "execution_count": 24,
   "metadata": {
    "ExecuteTime": {
     "end_time": "2018-01-21T23:44:07.991196Z",
     "start_time": "2018-01-21T23:44:07.938194Z"
    },
    "collapsed": true
   },
   "outputs": [],
   "source": [
    "if REDUCE_PER_LAUNCH_SITE:\n",
    "    reduced_satcat_df = data_reduction_per_launch_site(satcat_df, LAUNCH_SITES)"
   ]
  },
  {
   "cell_type": "code",
   "execution_count": 25,
   "metadata": {
    "ExecuteTime": {
     "end_time": "2018-01-21T23:44:08.014358Z",
     "start_time": "2018-01-21T23:44:07.992785Z"
    }
   },
   "outputs": [
    {
     "name": "stdout",
     "output_type": "stream",
     "text": [
      "['US' 'UK' 'ITSO' 'ESRO' 'NATO' 'CA' 'FGER' 'INDO' 'ESA' 'JPN' 'IT' 'IND'\n",
      " 'ARGN' 'GER' 'AB' 'MEX' 'AUS' 'RP' 'SWED' 'NOR' 'IM' 'EUTE' 'NETH' 'GREC'\n",
      " 'BRAZ' 'SES' 'SKOR' 'ABS' 'PAKI' 'GLOB' 'CIS' 'ROC' 'SPN' 'NICO' 'AC'\n",
      " 'ORB' 'THAI' 'TMMC' 'BUL' 'FR' 'DEN' 'SAFR']\n"
     ]
    },
    {
     "data": {
      "text/html": [
       "<div>\n",
       "<style>\n",
       "    .dataframe thead tr:only-child th {\n",
       "        text-align: right;\n",
       "    }\n",
       "\n",
       "    .dataframe thead th {\n",
       "        text-align: left;\n",
       "    }\n",
       "\n",
       "    .dataframe tbody tr th {\n",
       "        vertical-align: top;\n",
       "    }\n",
       "</style>\n",
       "<table border=\"1\" class=\"dataframe\">\n",
       "  <thead>\n",
       "    <tr style=\"text-align: right;\">\n",
       "      <th></th>\n",
       "      <th>apogee</th>\n",
       "      <th>decay_date</th>\n",
       "      <th>inclination</th>\n",
       "      <th>launch_date</th>\n",
       "      <th>launch_nbr</th>\n",
       "      <th>launch_piece</th>\n",
       "      <th>launch_site</th>\n",
       "      <th>launch_year</th>\n",
       "      <th>multiple_name_flag</th>\n",
       "      <th>name</th>\n",
       "      <th>operational_status</th>\n",
       "      <th>orbital_period</th>\n",
       "      <th>orbital_status</th>\n",
       "      <th>payload_flag</th>\n",
       "      <th>perigee</th>\n",
       "      <th>radar_cross_section</th>\n",
       "      <th>source</th>\n",
       "      <th>num_launch_site</th>\n",
       "    </tr>\n",
       "    <tr>\n",
       "      <th>NORAD</th>\n",
       "      <th></th>\n",
       "      <th></th>\n",
       "      <th></th>\n",
       "      <th></th>\n",
       "      <th></th>\n",
       "      <th></th>\n",
       "      <th></th>\n",
       "      <th></th>\n",
       "      <th></th>\n",
       "      <th></th>\n",
       "      <th></th>\n",
       "      <th></th>\n",
       "      <th></th>\n",
       "      <th></th>\n",
       "      <th></th>\n",
       "      <th></th>\n",
       "      <th></th>\n",
       "      <th></th>\n",
       "    </tr>\n",
       "  </thead>\n",
       "  <tbody>\n",
       "    <tr>\n",
       "      <th>4</th>\n",
       "      <td>215.0</td>\n",
       "      <td>1970-03-31</td>\n",
       "      <td>33.2</td>\n",
       "      <td>1958-02-01</td>\n",
       "      <td>1</td>\n",
       "      <td>A</td>\n",
       "      <td>AFETR</td>\n",
       "      <td>1958</td>\n",
       "      <td>False</td>\n",
       "      <td>EXPLORER 1</td>\n",
       "      <td>Decayed</td>\n",
       "      <td>88.5</td>\n",
       "      <td>EA</td>\n",
       "      <td>True</td>\n",
       "      <td>183.0</td>\n",
       "      <td>0.000</td>\n",
       "      <td>US</td>\n",
       "      <td>1</td>\n",
       "    </tr>\n",
       "    <tr>\n",
       "      <th>5</th>\n",
       "      <td>3834.0</td>\n",
       "      <td></td>\n",
       "      <td>34.3</td>\n",
       "      <td>1958-03-17</td>\n",
       "      <td>2</td>\n",
       "      <td>B</td>\n",
       "      <td>AFETR</td>\n",
       "      <td>1958</td>\n",
       "      <td>False</td>\n",
       "      <td>VANGUARD 1</td>\n",
       "      <td>Unknown</td>\n",
       "      <td>132.8</td>\n",
       "      <td>EA</td>\n",
       "      <td>True</td>\n",
       "      <td>650.0</td>\n",
       "      <td>0.122</td>\n",
       "      <td>US</td>\n",
       "      <td>1</td>\n",
       "    </tr>\n",
       "    <tr>\n",
       "      <th>6</th>\n",
       "      <td>1739.0</td>\n",
       "      <td>1958-06-28</td>\n",
       "      <td>33.5</td>\n",
       "      <td>1958-03-26</td>\n",
       "      <td>3</td>\n",
       "      <td>A</td>\n",
       "      <td>AFETR</td>\n",
       "      <td>1958</td>\n",
       "      <td>False</td>\n",
       "      <td>EXPLORER 3</td>\n",
       "      <td>Decayed</td>\n",
       "      <td>103.6</td>\n",
       "      <td>EA</td>\n",
       "      <td>True</td>\n",
       "      <td>117.0</td>\n",
       "      <td>0.000</td>\n",
       "      <td>US</td>\n",
       "      <td>1</td>\n",
       "    </tr>\n",
       "    <tr>\n",
       "      <th>9</th>\n",
       "      <td>585.0</td>\n",
       "      <td>1959-10-23</td>\n",
       "      <td>50.3</td>\n",
       "      <td>1958-07-26</td>\n",
       "      <td>5</td>\n",
       "      <td>A</td>\n",
       "      <td>AFETR</td>\n",
       "      <td>1958</td>\n",
       "      <td>False</td>\n",
       "      <td>EXPLORER 4</td>\n",
       "      <td>Decayed</td>\n",
       "      <td>92.8</td>\n",
       "      <td>EA</td>\n",
       "      <td>True</td>\n",
       "      <td>239.0</td>\n",
       "      <td>0.000</td>\n",
       "      <td>US</td>\n",
       "      <td>1</td>\n",
       "    </tr>\n",
       "    <tr>\n",
       "      <th>10</th>\n",
       "      <td>1187.0</td>\n",
       "      <td>1959-01-21</td>\n",
       "      <td>32.3</td>\n",
       "      <td>1958-12-18</td>\n",
       "      <td>6</td>\n",
       "      <td>A</td>\n",
       "      <td>AFETR</td>\n",
       "      <td>1958</td>\n",
       "      <td>False</td>\n",
       "      <td>SCORE</td>\n",
       "      <td>Decayed</td>\n",
       "      <td>98.2</td>\n",
       "      <td>EA</td>\n",
       "      <td>True</td>\n",
       "      <td>159.0</td>\n",
       "      <td>0.000</td>\n",
       "      <td>US</td>\n",
       "      <td>1</td>\n",
       "    </tr>\n",
       "  </tbody>\n",
       "</table>\n",
       "</div>"
      ],
      "text/plain": [
       "       apogee  decay_date  inclination launch_date  launch_nbr launch_piece  \\\n",
       "NORAD                                                                         \n",
       "4       215.0  1970-03-31         33.2  1958-02-01           1          A     \n",
       "5      3834.0                     34.3  1958-03-17           2          B     \n",
       "6      1739.0  1958-06-28         33.5  1958-03-26           3          A     \n",
       "9       585.0  1959-10-23         50.3  1958-07-26           5          A     \n",
       "10     1187.0  1959-01-21         32.3  1958-12-18           6          A     \n",
       "\n",
       "      launch_site  launch_year  multiple_name_flag        name  \\\n",
       "NORAD                                                            \n",
       "4           AFETR         1958               False  EXPLORER 1   \n",
       "5           AFETR         1958               False  VANGUARD 1   \n",
       "6           AFETR         1958               False  EXPLORER 3   \n",
       "9           AFETR         1958               False  EXPLORER 4   \n",
       "10          AFETR         1958               False       SCORE   \n",
       "\n",
       "      operational_status  orbital_period orbital_status  payload_flag  \\\n",
       "NORAD                                                                   \n",
       "4                Decayed            88.5             EA          True   \n",
       "5                Unknown           132.8             EA          True   \n",
       "6                Decayed           103.6             EA          True   \n",
       "9                Decayed            92.8             EA          True   \n",
       "10               Decayed            98.2             EA          True   \n",
       "\n",
       "       perigee  radar_cross_section source  num_launch_site  \n",
       "NORAD                                                        \n",
       "4        183.0                0.000     US                1  \n",
       "5        650.0                0.122     US                1  \n",
       "6        117.0                0.000     US                1  \n",
       "9        239.0                0.000     US                1  \n",
       "10       159.0                0.000     US                1  "
      ]
     },
     "metadata": {},
     "output_type": "display_data"
    }
   ],
   "source": [
    "print(reduced_satcat_df.source.unique())\n",
    "display(reduced_satcat_df.head(5))"
   ]
  },
  {
   "cell_type": "markdown",
   "metadata": {},
   "source": [
    "#### Reduce by payload or operational"
   ]
  },
  {
   "cell_type": "markdown",
   "metadata": {},
   "source": [
    "To reduce even more the size of the dataset, we can chose to keep only payloads and/or operational satellites in the dataset.\n",
    "\n",
    "We chose to keep only payloads, because the dataset has many other types, such as debris and launchers, which are not really interesting for our analysis.\n",
    "\n",
    "We chose to use all historic satellites to have more data on which to work.\n",
    "Also historic satellites are likely to follow similar orbits as modern satellites."
   ]
  },
  {
   "cell_type": "code",
   "execution_count": 26,
   "metadata": {
    "ExecuteTime": {
     "end_time": "2018-01-21T23:44:08.026060Z",
     "start_time": "2018-01-21T23:44:08.016335Z"
    }
   },
   "outputs": [
    {
     "name": "stdout",
     "output_type": "stream",
     "text": [
      "Length before further reduction:  10253\n",
      "Length after reduction:  1743\n"
     ]
    }
   ],
   "source": [
    "ONLY_PAYLOAD=True\n",
    "ONLY_OPERATIONAL=False\n",
    "print(\"Length before further reduction: \", len(reduced_satcat_df))\n",
    "if ONLY_PAYLOAD:\n",
    "    reduced_satcat_df = reduced_satcat_df.loc[reduced_satcat_df.payload_flag == True]\n",
    "if ONLY_OPERATIONAL:\n",
    "    reduced_satcat_df = reduced_satcat_df.loc[reduced_satcat_df.operational_status == \"Operational\"]\n",
    "    \n",
    "print(\"Length after reduction: \", len(reduced_satcat_df))"
   ]
  },
  {
   "cell_type": "markdown",
   "metadata": {},
   "source": [
    "### Extract Features and Labels"
   ]
  },
  {
   "cell_type": "markdown",
   "metadata": {},
   "source": [
    "#### Create Features DataFrame"
   ]
  },
  {
   "cell_type": "markdown",
   "metadata": {},
   "source": [
    "We now want to extract the features for each satellite. \n",
    "As a first glance, we want to keep as much data as possible. Later on we might drop some features."
   ]
  },
  {
   "cell_type": "code",
   "execution_count": 27,
   "metadata": {
    "ExecuteTime": {
     "end_time": "2018-01-21T23:44:08.052552Z",
     "start_time": "2018-01-21T23:44:08.027427Z"
    }
   },
   "outputs": [
    {
     "data": {
      "text/html": [
       "<div>\n",
       "<style>\n",
       "    .dataframe thead tr:only-child th {\n",
       "        text-align: right;\n",
       "    }\n",
       "\n",
       "    .dataframe thead th {\n",
       "        text-align: left;\n",
       "    }\n",
       "\n",
       "    .dataframe tbody tr th {\n",
       "        vertical-align: top;\n",
       "    }\n",
       "</style>\n",
       "<table border=\"1\" class=\"dataframe\">\n",
       "  <thead>\n",
       "    <tr style=\"text-align: right;\">\n",
       "      <th></th>\n",
       "      <th>apogee</th>\n",
       "      <th>decay_date</th>\n",
       "      <th>inclination</th>\n",
       "      <th>launch_date</th>\n",
       "      <th>launch_nbr</th>\n",
       "      <th>launch_piece</th>\n",
       "      <th>launch_site</th>\n",
       "      <th>launch_year</th>\n",
       "      <th>multiple_name_flag</th>\n",
       "      <th>name</th>\n",
       "      <th>operational_status</th>\n",
       "      <th>orbital_period</th>\n",
       "      <th>orbital_status</th>\n",
       "      <th>payload_flag</th>\n",
       "      <th>perigee</th>\n",
       "      <th>radar_cross_section</th>\n",
       "      <th>source</th>\n",
       "      <th>num_launch_site</th>\n",
       "    </tr>\n",
       "    <tr>\n",
       "      <th>NORAD</th>\n",
       "      <th></th>\n",
       "      <th></th>\n",
       "      <th></th>\n",
       "      <th></th>\n",
       "      <th></th>\n",
       "      <th></th>\n",
       "      <th></th>\n",
       "      <th></th>\n",
       "      <th></th>\n",
       "      <th></th>\n",
       "      <th></th>\n",
       "      <th></th>\n",
       "      <th></th>\n",
       "      <th></th>\n",
       "      <th></th>\n",
       "      <th></th>\n",
       "      <th></th>\n",
       "      <th></th>\n",
       "    </tr>\n",
       "  </thead>\n",
       "  <tbody>\n",
       "    <tr>\n",
       "      <th>4</th>\n",
       "      <td>215.0</td>\n",
       "      <td>1970-03-31</td>\n",
       "      <td>33.2</td>\n",
       "      <td>1958-02-01</td>\n",
       "      <td>1</td>\n",
       "      <td>A</td>\n",
       "      <td>AFETR</td>\n",
       "      <td>1958</td>\n",
       "      <td>False</td>\n",
       "      <td>EXPLORER 1</td>\n",
       "      <td>Decayed</td>\n",
       "      <td>88.5</td>\n",
       "      <td>EA</td>\n",
       "      <td>True</td>\n",
       "      <td>183.0</td>\n",
       "      <td>0.000</td>\n",
       "      <td>US</td>\n",
       "      <td>1</td>\n",
       "    </tr>\n",
       "    <tr>\n",
       "      <th>5</th>\n",
       "      <td>3834.0</td>\n",
       "      <td></td>\n",
       "      <td>34.3</td>\n",
       "      <td>1958-03-17</td>\n",
       "      <td>2</td>\n",
       "      <td>B</td>\n",
       "      <td>AFETR</td>\n",
       "      <td>1958</td>\n",
       "      <td>False</td>\n",
       "      <td>VANGUARD 1</td>\n",
       "      <td>Unknown</td>\n",
       "      <td>132.8</td>\n",
       "      <td>EA</td>\n",
       "      <td>True</td>\n",
       "      <td>650.0</td>\n",
       "      <td>0.122</td>\n",
       "      <td>US</td>\n",
       "      <td>1</td>\n",
       "    </tr>\n",
       "    <tr>\n",
       "      <th>6</th>\n",
       "      <td>1739.0</td>\n",
       "      <td>1958-06-28</td>\n",
       "      <td>33.5</td>\n",
       "      <td>1958-03-26</td>\n",
       "      <td>3</td>\n",
       "      <td>A</td>\n",
       "      <td>AFETR</td>\n",
       "      <td>1958</td>\n",
       "      <td>False</td>\n",
       "      <td>EXPLORER 3</td>\n",
       "      <td>Decayed</td>\n",
       "      <td>103.6</td>\n",
       "      <td>EA</td>\n",
       "      <td>True</td>\n",
       "      <td>117.0</td>\n",
       "      <td>0.000</td>\n",
       "      <td>US</td>\n",
       "      <td>1</td>\n",
       "    </tr>\n",
       "    <tr>\n",
       "      <th>9</th>\n",
       "      <td>585.0</td>\n",
       "      <td>1959-10-23</td>\n",
       "      <td>50.3</td>\n",
       "      <td>1958-07-26</td>\n",
       "      <td>5</td>\n",
       "      <td>A</td>\n",
       "      <td>AFETR</td>\n",
       "      <td>1958</td>\n",
       "      <td>False</td>\n",
       "      <td>EXPLORER 4</td>\n",
       "      <td>Decayed</td>\n",
       "      <td>92.8</td>\n",
       "      <td>EA</td>\n",
       "      <td>True</td>\n",
       "      <td>239.0</td>\n",
       "      <td>0.000</td>\n",
       "      <td>US</td>\n",
       "      <td>1</td>\n",
       "    </tr>\n",
       "    <tr>\n",
       "      <th>10</th>\n",
       "      <td>1187.0</td>\n",
       "      <td>1959-01-21</td>\n",
       "      <td>32.3</td>\n",
       "      <td>1958-12-18</td>\n",
       "      <td>6</td>\n",
       "      <td>A</td>\n",
       "      <td>AFETR</td>\n",
       "      <td>1958</td>\n",
       "      <td>False</td>\n",
       "      <td>SCORE</td>\n",
       "      <td>Decayed</td>\n",
       "      <td>98.2</td>\n",
       "      <td>EA</td>\n",
       "      <td>True</td>\n",
       "      <td>159.0</td>\n",
       "      <td>0.000</td>\n",
       "      <td>US</td>\n",
       "      <td>1</td>\n",
       "    </tr>\n",
       "  </tbody>\n",
       "</table>\n",
       "</div>"
      ],
      "text/plain": [
       "       apogee  decay_date  inclination launch_date  launch_nbr launch_piece  \\\n",
       "NORAD                                                                         \n",
       "4       215.0  1970-03-31         33.2  1958-02-01           1          A     \n",
       "5      3834.0                     34.3  1958-03-17           2          B     \n",
       "6      1739.0  1958-06-28         33.5  1958-03-26           3          A     \n",
       "9       585.0  1959-10-23         50.3  1958-07-26           5          A     \n",
       "10     1187.0  1959-01-21         32.3  1958-12-18           6          A     \n",
       "\n",
       "      launch_site  launch_year  multiple_name_flag        name  \\\n",
       "NORAD                                                            \n",
       "4           AFETR         1958               False  EXPLORER 1   \n",
       "5           AFETR         1958               False  VANGUARD 1   \n",
       "6           AFETR         1958               False  EXPLORER 3   \n",
       "9           AFETR         1958               False  EXPLORER 4   \n",
       "10          AFETR         1958               False       SCORE   \n",
       "\n",
       "      operational_status  orbital_period orbital_status  payload_flag  \\\n",
       "NORAD                                                                   \n",
       "4                Decayed            88.5             EA          True   \n",
       "5                Unknown           132.8             EA          True   \n",
       "6                Decayed           103.6             EA          True   \n",
       "9                Decayed            92.8             EA          True   \n",
       "10               Decayed            98.2             EA          True   \n",
       "\n",
       "       perigee  radar_cross_section source  num_launch_site  \n",
       "NORAD                                                        \n",
       "4        183.0                0.000     US                1  \n",
       "5        650.0                0.122     US                1  \n",
       "6        117.0                0.000     US                1  \n",
       "9        239.0                0.000     US                1  \n",
       "10       159.0                0.000     US                1  "
      ]
     },
     "metadata": {},
     "output_type": "display_data"
    }
   ],
   "source": [
    "display(reduced_satcat_df.head(5))"
   ]
  },
  {
   "cell_type": "code",
   "execution_count": 28,
   "metadata": {
    "ExecuteTime": {
     "end_time": "2018-01-21T23:44:08.064404Z",
     "start_time": "2018-01-21T23:44:08.053887Z"
    }
   },
   "outputs": [
    {
     "data": {
      "text/plain": [
       "array(['EA', 'NEA', 'EA2', 'MO2', 'MA0', 'EL0', 'DOC', 'ISS'], dtype=object)"
      ]
     },
     "execution_count": 28,
     "metadata": {},
     "output_type": "execute_result"
    }
   ],
   "source": [
    "satcat_df.orbital_status.unique()"
   ]
  },
  {
   "cell_type": "code",
   "execution_count": 29,
   "metadata": {
    "ExecuteTime": {
     "end_time": "2018-01-21T23:44:08.072123Z",
     "start_time": "2018-01-21T23:44:08.065925Z"
    },
    "scrolled": true
   },
   "outputs": [
    {
     "data": {
      "text/plain": [
       "array(['EA', 'NEA', 'EA2', 'ISS'], dtype=object)"
      ]
     },
     "execution_count": 29,
     "metadata": {},
     "output_type": "execute_result"
    }
   ],
   "source": [
    "reduced_satcat_df.orbital_status.unique()"
   ]
  },
  {
   "cell_type": "code",
   "execution_count": 30,
   "metadata": {
    "ExecuteTime": {
     "end_time": "2018-01-21T23:44:08.111244Z",
     "start_time": "2018-01-21T23:44:08.073697Z"
    },
    "collapsed": true
   },
   "outputs": [],
   "source": [
    "# Note: because this function is key to understanding how we create the features, we kept it in the notebook\n",
    "\n",
    "def get_feature_dataframe(reduced_satcat_df, only_payload=True, only_operational=False):\n",
    "    \"\"\"Function to create the feature dataframe\"\"\"\n",
    "    # We keep all the features that could have an impact on the clustering\n",
    "    # Note: We do this in a general fashion, so we keep features that could have been reduced just in case\n",
    "\n",
    "    # Numeric Features : \"apogee\", \"inclination\", \"launch_year\", \"orbital_period\", \"perigee\", \"radar_cross_section\"\n",
    "    # Boolean Features : \"payload_flag\"\n",
    "    # List Features    : \"operational_status\", \"orbital_status\", \"source\"\n",
    "    numeric_features = [\"apogee\", \"inclination\", \"launch_year\", \"orbital_period\", \"perigee\", \"radar_cross_section\"]\n",
    "    boolean_features = [\"payload_flag\"]\n",
    "    list_features = [\"operational_status\", \"orbital_status\", \"source\"]\n",
    "    features_columns = numeric_features + boolean_features + list_features\n",
    "\n",
    "    # Numeric features don't require special management\n",
    "    features_df = reduced_satcat_df[numeric_features]\n",
    "    display(features_df.head(5))\n",
    "\n",
    "    # Transform boolean features to numeric\n",
    "    num_payload_flag = reduced_satcat_df.payload_flag.map (\\\n",
    "                                lambda x : 1 if x else 0\n",
    "                       )\n",
    "    if not only_payload:\n",
    "        features_df = features_df.assign(payload_flag = num_payload_flag)\n",
    "\n",
    "    # We need to transform the List features in a numerical form, we will use the unique value index to do so\n",
    "    # We previously created indexes to be able to find them easily\n",
    "    # \"operational_status\" : num_operational_status_dict\n",
    "    # \"orbital_status\" : num_orbital_status_dict\n",
    "    # \"source\": num_source_dict\n",
    "    num_operational_status = reduced_satcat_df.operational_status.map( \\\n",
    "                                    lambda x : num_operational_status_dict[x] \\\n",
    "                             )\n",
    "    num_orbital_status = reduced_satcat_df.orbital_status.map( \\\n",
    "                                    lambda x : num_orbital_status_dict[x] \\\n",
    "                             )\n",
    "    num_source = reduced_satcat_df.source.map( \\\n",
    "                                    lambda x : num_source_dict[x] \\\n",
    "                             )\n",
    "    if not only_operational:\n",
    "        features_df = features_df.assign(operational_status = num_operational_status)\n",
    "    features_df = features_df.assign(orbital_status = num_orbital_status)\n",
    "    features_df = features_df.assign(source = num_source)\n",
    "    \n",
    "    return features_df"
   ]
  },
  {
   "cell_type": "code",
   "execution_count": 31,
   "metadata": {
    "ExecuteTime": {
     "end_time": "2018-01-21T23:44:08.152074Z",
     "start_time": "2018-01-21T23:44:08.112778Z"
    }
   },
   "outputs": [
    {
     "data": {
      "text/html": [
       "<div>\n",
       "<style>\n",
       "    .dataframe thead tr:only-child th {\n",
       "        text-align: right;\n",
       "    }\n",
       "\n",
       "    .dataframe thead th {\n",
       "        text-align: left;\n",
       "    }\n",
       "\n",
       "    .dataframe tbody tr th {\n",
       "        vertical-align: top;\n",
       "    }\n",
       "</style>\n",
       "<table border=\"1\" class=\"dataframe\">\n",
       "  <thead>\n",
       "    <tr style=\"text-align: right;\">\n",
       "      <th></th>\n",
       "      <th>apogee</th>\n",
       "      <th>inclination</th>\n",
       "      <th>launch_year</th>\n",
       "      <th>orbital_period</th>\n",
       "      <th>perigee</th>\n",
       "      <th>radar_cross_section</th>\n",
       "    </tr>\n",
       "    <tr>\n",
       "      <th>NORAD</th>\n",
       "      <th></th>\n",
       "      <th></th>\n",
       "      <th></th>\n",
       "      <th></th>\n",
       "      <th></th>\n",
       "      <th></th>\n",
       "    </tr>\n",
       "  </thead>\n",
       "  <tbody>\n",
       "    <tr>\n",
       "      <th>4</th>\n",
       "      <td>215.0</td>\n",
       "      <td>33.2</td>\n",
       "      <td>1958</td>\n",
       "      <td>88.5</td>\n",
       "      <td>183.0</td>\n",
       "      <td>0.000</td>\n",
       "    </tr>\n",
       "    <tr>\n",
       "      <th>5</th>\n",
       "      <td>3834.0</td>\n",
       "      <td>34.3</td>\n",
       "      <td>1958</td>\n",
       "      <td>132.8</td>\n",
       "      <td>650.0</td>\n",
       "      <td>0.122</td>\n",
       "    </tr>\n",
       "    <tr>\n",
       "      <th>6</th>\n",
       "      <td>1739.0</td>\n",
       "      <td>33.5</td>\n",
       "      <td>1958</td>\n",
       "      <td>103.6</td>\n",
       "      <td>117.0</td>\n",
       "      <td>0.000</td>\n",
       "    </tr>\n",
       "    <tr>\n",
       "      <th>9</th>\n",
       "      <td>585.0</td>\n",
       "      <td>50.3</td>\n",
       "      <td>1958</td>\n",
       "      <td>92.8</td>\n",
       "      <td>239.0</td>\n",
       "      <td>0.000</td>\n",
       "    </tr>\n",
       "    <tr>\n",
       "      <th>10</th>\n",
       "      <td>1187.0</td>\n",
       "      <td>32.3</td>\n",
       "      <td>1958</td>\n",
       "      <td>98.2</td>\n",
       "      <td>159.0</td>\n",
       "      <td>0.000</td>\n",
       "    </tr>\n",
       "  </tbody>\n",
       "</table>\n",
       "</div>"
      ],
      "text/plain": [
       "       apogee  inclination  launch_year  orbital_period  perigee  \\\n",
       "NORAD                                                              \n",
       "4       215.0         33.2         1958            88.5    183.0   \n",
       "5      3834.0         34.3         1958           132.8    650.0   \n",
       "6      1739.0         33.5         1958           103.6    117.0   \n",
       "9       585.0         50.3         1958            92.8    239.0   \n",
       "10     1187.0         32.3         1958            98.2    159.0   \n",
       "\n",
       "       radar_cross_section  \n",
       "NORAD                       \n",
       "4                    0.000  \n",
       "5                    0.122  \n",
       "6                    0.000  \n",
       "9                    0.000  \n",
       "10                   0.000  "
      ]
     },
     "metadata": {},
     "output_type": "display_data"
    },
    {
     "data": {
      "text/html": [
       "<div>\n",
       "<style>\n",
       "    .dataframe thead tr:only-child th {\n",
       "        text-align: right;\n",
       "    }\n",
       "\n",
       "    .dataframe thead th {\n",
       "        text-align: left;\n",
       "    }\n",
       "\n",
       "    .dataframe tbody tr th {\n",
       "        vertical-align: top;\n",
       "    }\n",
       "</style>\n",
       "<table border=\"1\" class=\"dataframe\">\n",
       "  <thead>\n",
       "    <tr style=\"text-align: right;\">\n",
       "      <th></th>\n",
       "      <th>apogee</th>\n",
       "      <th>inclination</th>\n",
       "      <th>launch_year</th>\n",
       "      <th>orbital_period</th>\n",
       "      <th>perigee</th>\n",
       "      <th>radar_cross_section</th>\n",
       "      <th>operational_status</th>\n",
       "      <th>orbital_status</th>\n",
       "      <th>source</th>\n",
       "    </tr>\n",
       "    <tr>\n",
       "      <th>NORAD</th>\n",
       "      <th></th>\n",
       "      <th></th>\n",
       "      <th></th>\n",
       "      <th></th>\n",
       "      <th></th>\n",
       "      <th></th>\n",
       "      <th></th>\n",
       "      <th></th>\n",
       "      <th></th>\n",
       "    </tr>\n",
       "  </thead>\n",
       "  <tbody>\n",
       "    <tr>\n",
       "      <th>4</th>\n",
       "      <td>215.0</td>\n",
       "      <td>33.2</td>\n",
       "      <td>1958</td>\n",
       "      <td>88.5</td>\n",
       "      <td>183.0</td>\n",
       "      <td>0.000</td>\n",
       "      <td>0</td>\n",
       "      <td>0</td>\n",
       "      <td>1</td>\n",
       "    </tr>\n",
       "    <tr>\n",
       "      <th>5</th>\n",
       "      <td>3834.0</td>\n",
       "      <td>34.3</td>\n",
       "      <td>1958</td>\n",
       "      <td>132.8</td>\n",
       "      <td>650.0</td>\n",
       "      <td>0.122</td>\n",
       "      <td>1</td>\n",
       "      <td>0</td>\n",
       "      <td>1</td>\n",
       "    </tr>\n",
       "    <tr>\n",
       "      <th>6</th>\n",
       "      <td>1739.0</td>\n",
       "      <td>33.5</td>\n",
       "      <td>1958</td>\n",
       "      <td>103.6</td>\n",
       "      <td>117.0</td>\n",
       "      <td>0.000</td>\n",
       "      <td>0</td>\n",
       "      <td>0</td>\n",
       "      <td>1</td>\n",
       "    </tr>\n",
       "    <tr>\n",
       "      <th>9</th>\n",
       "      <td>585.0</td>\n",
       "      <td>50.3</td>\n",
       "      <td>1958</td>\n",
       "      <td>92.8</td>\n",
       "      <td>239.0</td>\n",
       "      <td>0.000</td>\n",
       "      <td>0</td>\n",
       "      <td>0</td>\n",
       "      <td>1</td>\n",
       "    </tr>\n",
       "    <tr>\n",
       "      <th>10</th>\n",
       "      <td>1187.0</td>\n",
       "      <td>32.3</td>\n",
       "      <td>1958</td>\n",
       "      <td>98.2</td>\n",
       "      <td>159.0</td>\n",
       "      <td>0.000</td>\n",
       "      <td>0</td>\n",
       "      <td>0</td>\n",
       "      <td>1</td>\n",
       "    </tr>\n",
       "  </tbody>\n",
       "</table>\n",
       "</div>"
      ],
      "text/plain": [
       "       apogee  inclination  launch_year  orbital_period  perigee  \\\n",
       "NORAD                                                              \n",
       "4       215.0         33.2         1958            88.5    183.0   \n",
       "5      3834.0         34.3         1958           132.8    650.0   \n",
       "6      1739.0         33.5         1958           103.6    117.0   \n",
       "9       585.0         50.3         1958            92.8    239.0   \n",
       "10     1187.0         32.3         1958            98.2    159.0   \n",
       "\n",
       "       radar_cross_section  operational_status  orbital_status  source  \n",
       "NORAD                                                                   \n",
       "4                    0.000                   0               0       1  \n",
       "5                    0.122                   1               0       1  \n",
       "6                    0.000                   0               0       1  \n",
       "9                    0.000                   0               0       1  \n",
       "10                   0.000                   0               0       1  "
      ]
     },
     "metadata": {},
     "output_type": "display_data"
    }
   ],
   "source": [
    "features_df = get_feature_dataframe(reduced_satcat_df, ONLY_PAYLOAD, ONLY_OPERATIONAL)\n",
    "display(features_df.head(5))"
   ]
  },
  {
   "cell_type": "markdown",
   "metadata": {
    "ExecuteTime": {
     "end_time": "2018-01-20T15:12:58.239430Z",
     "start_time": "2018-01-20T15:12:58.235622Z"
    }
   },
   "source": [
    "#### Normalize features"
   ]
  },
  {
   "cell_type": "code",
   "execution_count": 32,
   "metadata": {
    "ExecuteTime": {
     "end_time": "2018-01-21T23:44:08.173263Z",
     "start_time": "2018-01-21T23:44:08.153823Z"
    }
   },
   "outputs": [
    {
     "data": {
      "text/html": [
       "<div>\n",
       "<style>\n",
       "    .dataframe thead tr:only-child th {\n",
       "        text-align: right;\n",
       "    }\n",
       "\n",
       "    .dataframe thead th {\n",
       "        text-align: left;\n",
       "    }\n",
       "\n",
       "    .dataframe tbody tr th {\n",
       "        vertical-align: top;\n",
       "    }\n",
       "</style>\n",
       "<table border=\"1\" class=\"dataframe\">\n",
       "  <thead>\n",
       "    <tr style=\"text-align: right;\">\n",
       "      <th></th>\n",
       "      <th>apogee</th>\n",
       "      <th>inclination</th>\n",
       "      <th>launch_year</th>\n",
       "      <th>orbital_period</th>\n",
       "      <th>perigee</th>\n",
       "      <th>radar_cross_section</th>\n",
       "      <th>operational_status</th>\n",
       "      <th>orbital_status</th>\n",
       "      <th>source</th>\n",
       "    </tr>\n",
       "    <tr>\n",
       "      <th>NORAD</th>\n",
       "      <th></th>\n",
       "      <th></th>\n",
       "      <th></th>\n",
       "      <th></th>\n",
       "      <th></th>\n",
       "      <th></th>\n",
       "      <th></th>\n",
       "      <th></th>\n",
       "      <th></th>\n",
       "    </tr>\n",
       "  </thead>\n",
       "  <tbody>\n",
       "    <tr>\n",
       "      <th>4</th>\n",
       "      <td>-0.390693</td>\n",
       "      <td>-0.766486</td>\n",
       "      <td>-1.44112</td>\n",
       "      <td>-0.192732</td>\n",
       "      <td>-0.501090</td>\n",
       "      <td>-0.171139</td>\n",
       "      <td>-0.943187</td>\n",
       "      <td>-0.109093</td>\n",
       "      <td>-0.312776</td>\n",
       "    </tr>\n",
       "    <tr>\n",
       "      <th>5</th>\n",
       "      <td>-0.285957</td>\n",
       "      <td>-0.734247</td>\n",
       "      <td>-1.44112</td>\n",
       "      <td>-0.176636</td>\n",
       "      <td>-0.473941</td>\n",
       "      <td>-0.168288</td>\n",
       "      <td>-0.147073</td>\n",
       "      <td>-0.109093</td>\n",
       "      <td>-0.312776</td>\n",
       "    </tr>\n",
       "    <tr>\n",
       "      <th>6</th>\n",
       "      <td>-0.346588</td>\n",
       "      <td>-0.757693</td>\n",
       "      <td>-1.44112</td>\n",
       "      <td>-0.187246</td>\n",
       "      <td>-0.504927</td>\n",
       "      <td>-0.171139</td>\n",
       "      <td>-0.943187</td>\n",
       "      <td>-0.109093</td>\n",
       "      <td>-0.312776</td>\n",
       "    </tr>\n",
       "    <tr>\n",
       "      <th>9</th>\n",
       "      <td>-0.379985</td>\n",
       "      <td>-0.265311</td>\n",
       "      <td>-1.44112</td>\n",
       "      <td>-0.191170</td>\n",
       "      <td>-0.497834</td>\n",
       "      <td>-0.171139</td>\n",
       "      <td>-0.943187</td>\n",
       "      <td>-0.109093</td>\n",
       "      <td>-0.312776</td>\n",
       "    </tr>\n",
       "    <tr>\n",
       "      <th>10</th>\n",
       "      <td>-0.362563</td>\n",
       "      <td>-0.792864</td>\n",
       "      <td>-1.44112</td>\n",
       "      <td>-0.189208</td>\n",
       "      <td>-0.502485</td>\n",
       "      <td>-0.171139</td>\n",
       "      <td>-0.943187</td>\n",
       "      <td>-0.109093</td>\n",
       "      <td>-0.312776</td>\n",
       "    </tr>\n",
       "  </tbody>\n",
       "</table>\n",
       "</div>"
      ],
      "text/plain": [
       "         apogee  inclination  launch_year  orbital_period   perigee  \\\n",
       "NORAD                                                                 \n",
       "4     -0.390693    -0.766486     -1.44112       -0.192732 -0.501090   \n",
       "5     -0.285957    -0.734247     -1.44112       -0.176636 -0.473941   \n",
       "6     -0.346588    -0.757693     -1.44112       -0.187246 -0.504927   \n",
       "9     -0.379985    -0.265311     -1.44112       -0.191170 -0.497834   \n",
       "10    -0.362563    -0.792864     -1.44112       -0.189208 -0.502485   \n",
       "\n",
       "       radar_cross_section  operational_status  orbital_status    source  \n",
       "NORAD                                                                     \n",
       "4                -0.171139           -0.943187       -0.109093 -0.312776  \n",
       "5                -0.168288           -0.147073       -0.109093 -0.312776  \n",
       "6                -0.171139           -0.943187       -0.109093 -0.312776  \n",
       "9                -0.171139           -0.943187       -0.109093 -0.312776  \n",
       "10               -0.171139           -0.943187       -0.109093 -0.312776  "
      ]
     },
     "metadata": {},
     "output_type": "display_data"
    }
   ],
   "source": [
    "features_df = normalize_features(features_df)\n",
    "display(features_df.head(5))"
   ]
  },
  {
   "cell_type": "markdown",
   "metadata": {},
   "source": [
    "#### Create Label Dataframe"
   ]
  },
  {
   "cell_type": "code",
   "execution_count": 33,
   "metadata": {
    "ExecuteTime": {
     "end_time": "2018-01-21T23:44:08.182477Z",
     "start_time": "2018-01-21T23:44:08.175226Z"
    }
   },
   "outputs": [
    {
     "data": {
      "text/html": [
       "<div>\n",
       "<style>\n",
       "    .dataframe thead tr:only-child th {\n",
       "        text-align: right;\n",
       "    }\n",
       "\n",
       "    .dataframe thead th {\n",
       "        text-align: left;\n",
       "    }\n",
       "\n",
       "    .dataframe tbody tr th {\n",
       "        vertical-align: top;\n",
       "    }\n",
       "</style>\n",
       "<table border=\"1\" class=\"dataframe\">\n",
       "  <thead>\n",
       "    <tr style=\"text-align: right;\">\n",
       "      <th></th>\n",
       "      <th>num_launch_site</th>\n",
       "    </tr>\n",
       "    <tr>\n",
       "      <th>NORAD</th>\n",
       "      <th></th>\n",
       "    </tr>\n",
       "  </thead>\n",
       "  <tbody>\n",
       "    <tr>\n",
       "      <th>4</th>\n",
       "      <td>1</td>\n",
       "    </tr>\n",
       "    <tr>\n",
       "      <th>5</th>\n",
       "      <td>1</td>\n",
       "    </tr>\n",
       "    <tr>\n",
       "      <th>6</th>\n",
       "      <td>1</td>\n",
       "    </tr>\n",
       "    <tr>\n",
       "      <th>9</th>\n",
       "      <td>1</td>\n",
       "    </tr>\n",
       "    <tr>\n",
       "      <th>10</th>\n",
       "      <td>1</td>\n",
       "    </tr>\n",
       "  </tbody>\n",
       "</table>\n",
       "</div>"
      ],
      "text/plain": [
       "       num_launch_site\n",
       "NORAD                 \n",
       "4                    1\n",
       "5                    1\n",
       "6                    1\n",
       "9                    1\n",
       "10                   1"
      ]
     },
     "metadata": {},
     "output_type": "display_data"
    }
   ],
   "source": [
    "num_launch_site = reduced_satcat_df.num_launch_site\n",
    "label_df = pd.DataFrame(num_launch_site)\n",
    "display(label_df.head(5))"
   ]
  },
  {
   "cell_type": "markdown",
   "metadata": {},
   "source": [
    "### Graph data visualization "
   ]
  },
  {
   "cell_type": "markdown",
   "metadata": {},
   "source": [
    "#### Distances"
   ]
  },
  {
   "cell_type": "markdown",
   "metadata": {},
   "source": [
    "Using the features we calculate, we want to find the distance between the feature vectors."
   ]
  },
  {
   "cell_type": "code",
   "execution_count": 34,
   "metadata": {
    "ExecuteTime": {
     "end_time": "2018-01-21T23:44:08.214242Z",
     "start_time": "2018-01-21T23:44:08.183967Z"
    },
    "collapsed": true
   },
   "outputs": [],
   "source": [
    "distance_metric = \"braycurtis\"\n",
    "distances = spatial.distance.squareform(spatial.distance.pdist(features_df, metric=distance_metric))"
   ]
  },
  {
   "cell_type": "code",
   "execution_count": 35,
   "metadata": {
    "ExecuteTime": {
     "end_time": "2018-01-21T23:44:08.594442Z",
     "start_time": "2018-01-21T23:44:08.215692Z"
    }
   },
   "outputs": [
    {
     "data": {
      "image/png": "[encoded data removed]",
      "text/plain": [
       "<matplotlib.figure.Figure at 0x7f622b016fd0>"
      ]
     },
     "metadata": {},
     "output_type": "display_data"
    }
   ],
   "source": [
    "plt.hist(distances.reshape(-1), bins=100)\n",
    "plt.savefig(\"fig/satcat_distances_hist.png\")\n",
    "plt.show()"
   ]
  },
  {
   "cell_type": "code",
   "execution_count": 36,
   "metadata": {
    "ExecuteTime": {
     "end_time": "2018-01-21T23:44:08.604066Z",
     "start_time": "2018-01-21T23:44:08.596139Z"
    }
   },
   "outputs": [
    {
     "name": "stdout",
     "output_type": "stream",
     "text": [
      "2027 distances equal exactly zero.\n",
      "1743\n"
     ]
    }
   ],
   "source": [
    "print('{} distances equal exactly zero.'.format(np.sum(distances == 0)))\n",
    "print(len(distances))"
   ]
  },
  {
   "cell_type": "markdown",
   "metadata": {},
   "source": [
    "#### Weights"
   ]
  },
  {
   "cell_type": "code",
   "execution_count": 37,
   "metadata": {
    "ExecuteTime": {
     "end_time": "2018-01-21T23:44:08.691044Z",
     "start_time": "2018-01-21T23:44:08.605343Z"
    }
   },
   "outputs": [
    {
     "name": "stdout",
     "output_type": "stream",
     "text": [
      "1743\n",
      "1743\n"
     ]
    }
   ],
   "source": [
    "KERNEL_WIDTH_PERCENTILE = 0.5\n",
    "weights = get_weights_from_distance(distances, KERNEL_WIDTH_PERCENTILE)\n",
    "# Validate that all the weights on the diagonal are null\n",
    "print(np.sum(np.diagonal(weights)==0))\n",
    "print(len(weights))"
   ]
  },
  {
   "cell_type": "code",
   "execution_count": 38,
   "metadata": {
    "ExecuteTime": {
     "end_time": "2018-01-21T23:44:09.388164Z",
     "start_time": "2018-01-21T23:44:08.692631Z"
    }
   },
   "outputs": [
    {
     "data": {
      "image/png": "[encoded data removed]",
      "text/plain": [
       "<matplotlib.figure.Figure at 0x7f622acc4278>"
      ]
     },
     "metadata": {},
     "output_type": "display_data"
    }
   ],
   "source": [
    "# Plot the resulting weight value\n",
    "fix, axes = plt.subplots(1, 2, figsize=(17, 8))\n",
    "plot_weight_hist(weights, axes[:], name=\"satcat_base_weight_hist\")\n",
    "plt.show()"
   ]
  },
  {
   "cell_type": "markdown",
   "metadata": {},
   "source": [
    "#### Sparcify"
   ]
  },
  {
   "cell_type": "code",
   "execution_count": 39,
   "metadata": {
    "ExecuteTime": {
     "end_time": "2018-01-21T23:44:16.052063Z",
     "start_time": "2018-01-21T23:44:09.389945Z"
    },
    "run_control": {
     "marked": true
    }
   },
   "outputs": [
    {
     "name": "stderr",
     "output_type": "stream",
     "text": [
      "100%|██████████| 1743/1743 [00:01<00:00, 1141.60it/s]\n",
      "100%|██████████| 1743/1743 [00:02<00:00, 835.78it/s] \n",
      "100%|██████████| 1743/1743 [00:02<00:00, 801.59it/s] \n"
     ]
    },
    {
     "data": {
      "image/png": "[encoded data removed]",
      "text/plain": [
       "<matplotlib.figure.Figure at 0x7f622aa6c9e8>"
      ]
     },
     "metadata": {},
     "output_type": "display_data"
    }
   ],
   "source": [
    "NEIGHBORS = 100\n",
    "epsilon = 1e-8\n",
    "\n",
    "weights = sparse_weights(weights, NEIGHBORS, epsilon)\n",
    "fix, axes = plt.subplots(1, 2, figsize=(17, 8))\n",
    "plot_weight_hist(weights, axes[:], name=\"satcat_sparse_weight_hist\")"
   ]
  },
  {
   "cell_type": "markdown",
   "metadata": {
    "ExecuteTime": {
     "end_time": "2018-01-20T15:43:50.425035Z",
     "start_time": "2018-01-20T15:43:50.422806Z"
    }
   },
   "source": [
    "#### Graph laplacian"
   ]
  },
  {
   "cell_type": "markdown",
   "metadata": {},
   "source": [
    "The graph laplacian can give use meaningfull information on the nodes distribution"
   ]
  },
  {
   "cell_type": "code",
   "execution_count": null,
   "metadata": {
    "ExecuteTime": {
     "start_time": "2018-01-21T23:44:01.797Z"
    }
   },
   "outputs": [
    {
     "data": {
      "image/png": "[encoded data removed]",
      "text/plain": [
       "<matplotlib.figure.Figure at 0x7f622b252cf8>"
      ]
     },
     "metadata": {},
     "output_type": "display_data"
    }
   ],
   "source": [
    "degrees = np.sum(weights, axis=1) \n",
    "plt.hist(degrees, bins=50);\n",
    "plt.savefig(\"fig/satcat_laplacian_degree.png\")\n",
    "plt.show()"
   ]
  },
  {
   "cell_type": "code",
   "execution_count": null,
   "metadata": {
    "ExecuteTime": {
     "start_time": "2018-01-21T23:44:01.803Z"
    }
   },
   "outputs": [
    {
     "name": "stderr",
     "output_type": "stream",
     "text": [
      " 19%|█▉        | 334/1743 [00:01<00:06, 226.26it/s]"
     ]
    }
   ],
   "source": [
    "laplacian = np.zeros((len(degrees), len(degrees)))\n",
    "laplacian.flags.writeable = True\n",
    "\n",
    "for i in tqdm(range(len(degrees))):\n",
    "    for j in range(len(degrees)):\n",
    "        #print(i,j, flush=True)\n",
    "        if i==j:\n",
    "            laplacian[i][j] = 1\n",
    "        else:\n",
    "            square_root = np.sqrt(degrees[i]*degrees[j])\n",
    "            # Avoid divide by 0\n",
    "            # Check if we should put 1 or 0 here...\n",
    "            if square_root == 0.0:\n",
    "                laplacian[i][j] = 0.0\n",
    "            else:\n",
    "                laplacian[i][j] = -weights[i][j]/square_root\n",
    "            "
   ]
  },
  {
   "cell_type": "code",
   "execution_count": null,
   "metadata": {
    "ExecuteTime": {
     "start_time": "2018-01-21T23:44:01.827Z"
    }
   },
   "outputs": [],
   "source": [
    "fix, axes = plt.subplots(1, 2, figsize=(10, 10))\n",
    "axes[0].spy(laplacian);\n",
    "axes[0].set_title(\"Laplacian matrix\")\n",
    "axes[1].spy(weights)\n",
    "axes[1].set_title(\"Weights matrix\")\n",
    "plt.savefig(\"fig/laplacian_and_weight_matrix.png\")\n",
    "plt.show()"
   ]
  },
  {
   "cell_type": "code",
   "execution_count": null,
   "metadata": {
    "ExecuteTime": {
     "start_time": "2018-01-21T23:44:01.832Z"
    },
    "collapsed": true
   },
   "outputs": [],
   "source": [
    "laplacian = sparse.csr_matrix(laplacian)"
   ]
  },
  {
   "cell_type": "code",
   "execution_count": null,
   "metadata": {
    "ExecuteTime": {
     "start_time": "2018-01-21T23:44:01.837Z"
    }
   },
   "outputs": [],
   "source": [
    "eigenvalues, eigenvectors = sparse.linalg.eigsh(laplacian,\n",
    "                                                k=len(weights)-1,\n",
    "                                                maxiter=100000,\n",
    "                                                which='SA')\n",
    "plt.plot(eigenvalues, '.-', markersize=5);\n",
    "plt.savefig(\"fig/satcat_laplacian_eigenvalues.png\")\n",
    "plt.show()"
   ]
  },
  {
   "cell_type": "code",
   "execution_count": null,
   "metadata": {
    "ExecuteTime": {
     "start_time": "2018-01-21T23:44:01.849Z"
    }
   },
   "outputs": [],
   "source": [
    "min_index = 0\n",
    "for index, value in enumerate(eigenvalues):\n",
    "    if value > 0.01:\n",
    "        min_index = index\n",
    "        break\n",
    "print(min_index)"
   ]
  },
  {
   "cell_type": "code",
   "execution_count": null,
   "metadata": {
    "ExecuteTime": {
     "start_time": "2018-01-21T23:44:01.854Z"
    }
   },
   "outputs": [],
   "source": [
    "NBR_OF_GRAPH = 10\n",
    "fig, axes = plt.subplots(NBR_OF_GRAPH//2,2,figsize=(10,15))\n",
    "for index in range(NBR_OF_GRAPH):\n",
    "    x = eigenvectors[:, index]\n",
    "    y = eigenvectors[:, index+1]\n",
    "    axes[index//2][index %2].scatter(x, y, c=label_df.num_launch_site.values, cmap='Set1', alpha=0.5);\n",
    "    axes[index//2][index %2].set_title(\"{}\".format(index))\n",
    "plt.savefig(\"fig/satcat_laplacian_results.png\")\n",
    "plt.show()"
   ]
  },
  {
   "cell_type": "markdown",
   "metadata": {},
   "source": [
    "### Graph analysis using networkx"
   ]
  },
  {
   "cell_type": "markdown",
   "metadata": {},
   "source": [
    "We see from the Laplacian analysis that there's signs of clustering in the data, but we don't obtain a simple clustering with data to the left and to the right.\n",
    "\n",
    "To identify the actual clustering, we will need to do more complete network analysis.\n",
    "We will use networkx as the main tool for this step."
   ]
  },
  {
   "cell_type": "code",
   "execution_count": null,
   "metadata": {
    "ExecuteTime": {
     "start_time": "2018-01-21T23:44:01.860Z"
    },
    "collapsed": true
   },
   "outputs": [],
   "source": [
    "graph = create_graph_from_weights(weights, reduced_satcat_df)"
   ]
  },
  {
   "cell_type": "code",
   "execution_count": null,
   "metadata": {
    "ExecuteTime": {
     "start_time": "2018-01-21T23:44:01.865Z"
    }
   },
   "outputs": [],
   "source": [
    "print(graph.node[0])"
   ]
  },
  {
   "cell_type": "markdown",
   "metadata": {},
   "source": [
    "#### Draw the network"
   ]
  },
  {
   "cell_type": "code",
   "execution_count": null,
   "metadata": {
    "ExecuteTime": {
     "start_time": "2018-01-21T23:44:01.871Z"
    }
   },
   "outputs": [],
   "source": [
    "fig, axes = plt.subplots(1,1, figsize=(10,5))\n",
    "draw_graph(graph, axes, reduced_satcat_df, name=\"base_graph\")\n",
    "plt.show()"
   ]
  },
  {
   "cell_type": "markdown",
   "metadata": {
    "ExecuteTime": {
     "end_time": "2018-01-20T20:34:21.609105Z",
     "start_time": "2018-01-20T20:34:21.606927Z"
    }
   },
   "source": [
    "#### Filter the graph degree"
   ]
  },
  {
   "cell_type": "markdown",
   "metadata": {},
   "source": [
    "We will first remove nodes with small amount of edges, because we can see that they don't really provide information on the clusters.\n",
    "\n",
    "**NOTE:** \n",
    "\n",
    "    1.This is used only to remove the nodes with a degree of 0, because we want to keep small degree nodes for the next steps.\n",
    "    2.We keep the code to show how we progressed through the task"
   ]
  },
  {
   "cell_type": "code",
   "execution_count": null,
   "metadata": {
    "ExecuteTime": {
     "start_time": "2018-01-21T23:44:01.878Z"
    },
    "run_control": {
     "marked": true
    }
   },
   "outputs": [],
   "source": [
    "# Filter out lonely nodes\n",
    "MINIMUM_DEGREE = 0 \n",
    "print(len(graph.nodes))\n",
    "graph = remove_lonely_nodes(graph, minimum_degree = MINIMUM_DEGREE)\n",
    "print(len(graph.nodes))\n",
    "# Do it again to remove resulting nodes with degree of 0\n",
    "# Only if the minimum degree is greater than 0, otherwise \n",
    "# it would simply repeat the same thing\n",
    "if MINIMUM_DEGREE > 0:\n",
    "    graph = remove_lonely_nodes(graph, minimum_degree = 0)\n",
    "print(len(graph.nodes))"
   ]
  },
  {
   "cell_type": "code",
   "execution_count": null,
   "metadata": {
    "ExecuteTime": {
     "start_time": "2018-01-21T23:44:01.884Z"
    }
   },
   "outputs": [],
   "source": [
    "fig, axes = plt.subplots(1,1, figsize=(10,5))\n",
    "draw_graph(graph, axes, reduced_satcat_df, name=\"cleaned_base_graph\")\n",
    "plt.show()"
   ]
  },
  {
   "cell_type": "markdown",
   "metadata": {},
   "source": [
    "We can see that there's clearly some major clusters appearing in the graph. \n",
    "The next step will be to attempt to segregate those clusters and extract see if we can identify they came from which launch site, and to which precision we can identify them."
   ]
  },
  {
   "cell_type": "markdown",
   "metadata": {},
   "source": [
    "##### Separate the graph into connected subgraphs"
   ]
  },
  {
   "cell_type": "code",
   "execution_count": null,
   "metadata": {
    "ExecuteTime": {
     "start_time": "2018-01-21T23:44:01.890Z"
    }
   },
   "outputs": [],
   "source": [
    "connected_subgraphs = []\n",
    "for subgraph in  nx.connected_component_subgraphs(graph):\n",
    "    connected_subgraphs.append(nx.Graph(subgraph))\n",
    "print(len(connected_subgraphs))"
   ]
  },
  {
   "cell_type": "code",
   "execution_count": null,
   "metadata": {
    "ExecuteTime": {
     "start_time": "2018-01-21T23:44:01.896Z"
    }
   },
   "outputs": [],
   "source": [
    "fig, axes = plt.subplots(1, 1, figsize=(10,5))\n",
    "print_subgraphs_nodes_dist(connected_subgraphs, axes)\n",
    "plt.show()"
   ]
  },
  {
   "cell_type": "markdown",
   "metadata": {},
   "source": [
    "We node that there's a lot of small graphs, without many nodes.\n",
    "For the visual analysis, we will only use a subset of the graphs, otherwise there would be too many plots"
   ]
  },
  {
   "cell_type": "code",
   "execution_count": null,
   "metadata": {
    "ExecuteTime": {
     "start_time": "2018-01-21T23:44:01.902Z"
    }
   },
   "outputs": [],
   "source": [
    "nodes_nbr = get_nodes_nbr(connected_subgraphs)\n",
    "MINIMUM_NBR_OF_NODES = np.percentile(nodes_nbr,\n",
    "                                     80)\n",
    "small_subgraphs = [connected_subgraphs[index] for index, val in enumerate(nodes_nbr) if val < MINIMUM_NBR_OF_NODES]\n",
    "kept_subgraphs = [connected_subgraphs[index] for index, val in enumerate(nodes_nbr) if val >= MINIMUM_NBR_OF_NODES]\n",
    "print(len(kept_subgraphs))"
   ]
  },
  {
   "cell_type": "code",
   "execution_count": null,
   "metadata": {
    "ExecuteTime": {
     "start_time": "2018-01-21T23:44:01.908Z"
    }
   },
   "outputs": [],
   "source": [
    "fig, axes = plt.subplots(1, 1, figsize=(5,3))\n",
    "print_subgraphs_nodes_dist(kept_subgraphs, axes)\n",
    "plt.show()"
   ]
  },
  {
   "cell_type": "code",
   "execution_count": null,
   "metadata": {
    "ExecuteTime": {
     "start_time": "2018-01-21T23:44:01.922Z"
    }
   },
   "outputs": [],
   "source": [
    "print_subgraphs_network(kept_subgraphs, reduced_satcat_df, name = \"subgraph_networks_before_clique\")"
   ]
  },
  {
   "cell_type": "markdown",
   "metadata": {
    "ExecuteTime": {
     "end_time": "2018-01-20T22:10:17.132911Z",
     "start_time": "2018-01-20T22:10:17.130582Z"
    }
   },
   "source": [
    "##### Separate the biggest graph in subgraphs"
   ]
  },
  {
   "cell_type": "markdown",
   "metadata": {
    "ExecuteTime": {
     "end_time": "2018-01-20T22:12:57.557845Z",
     "start_time": "2018-01-20T22:12:57.554359Z"
    }
   },
   "source": [
    "We see from the result above that most subgraphs are well separated but for the largest subgraph.\n",
    "\n",
    "To improve the results, we will separate the bigger subgraphs into smaller ones.\n",
    "\n",
    "To determine how we will end the separation, we will separate the bigger graphs in cliques."
   ]
  },
  {
   "cell_type": "code",
   "execution_count": null,
   "metadata": {
    "ExecuteTime": {
     "start_time": "2018-01-21T23:44:01.929Z"
    }
   },
   "outputs": [],
   "source": [
    "MAXIMUM_SUBGRAPH_NODES_PERCENT = 0.20 # How many nodes you need to be a big subgraph\n",
    "maximum_subgraph_nodes = int(len(graph.nodes)*MAXIMUM_SUBGRAPH_NODES_PERCENT)\n",
    "\n",
    "# Get the index of the big subgraphs\n",
    "big_subgraphs_index = get_big_subgraphs_index(kept_subgraphs,\n",
    "                                              maximum_subgraph_nodes\n",
    "                                             )\n",
    "print(big_subgraphs_index)"
   ]
  },
  {
   "cell_type": "code",
   "execution_count": null,
   "metadata": {
    "ExecuteTime": {
     "start_time": "2018-01-21T23:44:01.934Z"
    }
   },
   "outputs": [],
   "source": [
    "# Segment the big subgraphs into cliques\n",
    "SIZE_OF_SMALLEST_CLIQUE = 20\n",
    "clique_subgraphs = []\n",
    "for subgraph_index in big_subgraphs_index:\n",
    "    current_subgraph = kept_subgraphs[subgraph_index]\n",
    "    current_subgraphs = get_graph_cliques(current_subgraph,\n",
    "                                          smallest_clique=SIZE_OF_SMALLEST_CLIQUE\n",
    "                                         )\n",
    "    clique_subgraphs += current_subgraphs\n",
    "print(get_nodes_nbr(clique_subgraphs))"
   ]
  },
  {
   "cell_type": "code",
   "execution_count": null,
   "metadata": {
    "ExecuteTime": {
     "start_time": "2018-01-21T23:44:01.940Z"
    }
   },
   "outputs": [],
   "source": [
    "# Construct a new subgraph without the subgraphs that where\n",
    "# divided in cliques, but with the cliques\n",
    "kept_subgraphs_no_big = [subgraph for index, subgraph in enumerate(kept_subgraphs)\n",
    "                         if not index in big_subgraphs_index]\n",
    "print(get_nodes_nbr(kept_subgraphs))\n",
    "print(get_nodes_nbr(kept_subgraphs_no_big))"
   ]
  },
  {
   "cell_type": "code",
   "execution_count": null,
   "metadata": {
    "ExecuteTime": {
     "start_time": "2018-01-21T23:44:01.945Z"
    }
   },
   "outputs": [],
   "source": [
    "# Merge the subgraphs\n",
    "subgraphs = clique_subgraphs + kept_subgraphs_no_big + small_subgraphs\n",
    "print(get_nodes_nbr(subgraphs))\n",
    "print(sum(get_nodes_nbr(subgraphs)))\n",
    "print(len(subgraphs))"
   ]
  },
  {
   "cell_type": "code",
   "execution_count": null,
   "metadata": {
    "ExecuteTime": {
     "start_time": "2018-01-21T23:44:01.951Z"
    }
   },
   "outputs": [],
   "source": [
    "print_subgraphs_network(subgraphs[:16], reduced_satcat_df, name = \"subgraph_networks_after_clique\")"
   ]
  },
  {
   "cell_type": "markdown",
   "metadata": {},
   "source": [
    "### Label the subgraphs and the nodes"
   ]
  },
  {
   "cell_type": "markdown",
   "metadata": {
    "ExecuteTime": {
     "end_time": "2018-01-21T12:26:53.869922Z",
     "start_time": "2018-01-21T12:26:53.867785Z"
    }
   },
   "source": [
    "Although we have used coloring in the graphs to show the launch site of each node, the algorithm doesn't have any information on the actual label to give to each node.\n",
    "\n",
    "In this section, we will provide the algorithm with a subset of the nodes that have an actual label.\n",
    "From there, we will try to give a probability of each subgraph to represent satellites that have been launched by a particular launch site.\n",
    "\n",
    "We will then identify the nodes of each subgraph in bulk by using the most probable launch site.\n",
    "If the probability is equal or we don't know it (i.e. we don't have any node with a label in the graph) we will identify the node launch site as \"unknown\".\n",
    "\n",
    "Finally, we will compare the results with the actual "
   ]
  },
  {
   "cell_type": "markdown",
   "metadata": {
    "ExecuteTime": {
     "end_time": "2018-01-21T14:10:51.832723Z",
     "start_time": "2018-01-21T14:10:51.830166Z"
    }
   },
   "source": [
    "#### Create the labeled subset of nodes"
   ]
  },
  {
   "cell_type": "markdown",
   "metadata": {},
   "source": [
    "First create an array with all nodes, their label and if they were part of the labeled subset.\n",
    "\n",
    "If they are unidentified, their label will be -1.\n",
    "\n",
    "The label will be the the numerical value given by\n",
    "num_launch_site."
   ]
  },
  {
   "cell_type": "code",
   "execution_count": null,
   "metadata": {
    "ExecuteTime": {
     "start_time": "2018-01-21T23:44:01.958Z"
    }
   },
   "outputs": [],
   "source": [
    "PERCENT_OF_LABELED = 30\n",
    "label_df = create_labeled_df(reduced_satcat_df, PERCENT_OF_LABELED) \n",
    "print(label_df.head(5))\n",
    "print(\"Number of labeled sats: {}\".format(label_df.is_labeled.sum()))\n",
    "print(\"Total number of sats: {}\".format(len(label_df)))"
   ]
  },
  {
   "cell_type": "markdown",
   "metadata": {
    "ExecuteTime": {
     "end_time": "2018-01-21T14:54:04.261151Z",
     "start_time": "2018-01-21T14:54:04.258620Z"
    },
    "collapsed": true
   },
   "source": [
    "#### Calculate launch site probability of each subgraph"
   ]
  },
  {
   "cell_type": "code",
   "execution_count": null,
   "metadata": {
    "ExecuteTime": {
     "start_time": "2018-01-21T23:44:01.964Z"
    }
   },
   "outputs": [],
   "source": [
    "subgraph_probabilities = [get_label_probs(label_df, subgraph) for subgraph in subgraphs]\n",
    "print(subgraph_probabilities)"
   ]
  },
  {
   "cell_type": "markdown",
   "metadata": {},
   "source": [
    "#### Identify the nodes of each subgraph"
   ]
  },
  {
   "cell_type": "code",
   "execution_count": null,
   "metadata": {
    "ExecuteTime": {
     "start_time": "2018-01-21T23:44:01.970Z"
    }
   },
   "outputs": [],
   "source": [
    "label_df = identify_nodes_from_prob(label_df, subgraphs)\n",
    "display(label_df.head())"
   ]
  },
  {
   "cell_type": "code",
   "execution_count": null,
   "metadata": {
    "ExecuteTime": {
     "start_time": "2018-01-21T23:44:01.978Z"
    }
   },
   "outputs": [],
   "source": [
    "nodes_nbr = [len(graph.nodes) for graph in subgraphs]\n",
    "sum(nodes_nbr)\n",
    "print(len(nodes_nbr))\n",
    "print(len(label_df))"
   ]
  },
  {
   "cell_type": "code",
   "execution_count": null,
   "metadata": {
    "ExecuteTime": {
     "start_time": "2018-01-21T23:44:01.983Z"
    }
   },
   "outputs": [],
   "source": [
    "sns.distplot(label_df.label, kde=False, rug=True)\n",
    "plt.show()"
   ]
  },
  {
   "cell_type": "markdown",
   "metadata": {},
   "source": [
    "#### Calculate the error of the labels"
   ]
  },
  {
   "cell_type": "code",
   "execution_count": null,
   "metadata": {
    "ExecuteTime": {
     "start_time": "2018-01-21T23:44:01.990Z"
    }
   },
   "outputs": [],
   "source": [
    "error = {}\n",
    "values = range(0,101,1)#[0, 1, 2, 5, 10, 20, 40, 60, 80, 90, 100]\n",
    "for percent_labeled in values:\n",
    "    labeled_df = get_labeled_df(reduced_satcat_df, subgraphs, percent_labeled)\n",
    "    error[percent_labeled] = get_error_properties(labeled_df, reduced_satcat_df, show=False)\n",
    "\n",
    "key_of_interest = [0, 1, 2, 5, 10, 20, 40, 60, 80, 100]\n",
    "for key in key_of_interest:\n",
    "    print(\"Fraction of labelized data: {} %, error: {}, unidentified:{}\".format(key,\n",
    "                                                                                error[key][\"good_classification_percent\"],\n",
    "                                                                                error[key][\"total_unknown_label\"]))"
   ]
  },
  {
   "cell_type": "code",
   "execution_count": null,
   "metadata": {
    "ExecuteTime": {
     "start_time": "2018-01-21T23:44:01.995Z"
    }
   },
   "outputs": [],
   "source": [
    "def print_error_graph(error, file_name=None):\n",
    "    \"\"\"Function to print the errors in a graph\"\"\"\n",
    "    x=list(error.keys())\n",
    "    y1=[error[key][\"good_classification_percent\"]*100 for key in error.keys()]\n",
    "    y2=[error[key][\"total_unknown_label\"] for key in error.keys()]\n",
    "    y3=[error[key][\"total_good_label\"] for key in error.keys()]\n",
    "    y4=[error[key][\"total_bad_label\"] for key in error.keys()]\n",
    "    y5=[error[key][\"total_label\"] for key in error.keys()]\n",
    "\n",
    "    \n",
    "    fig, ax1 = plt.subplots(figsize=(10,10))\n",
    "    \n",
    "    from matplotlib.ticker import AutoMinorLocator\n",
    "    \n",
    "    minorLocator = AutoMinorLocator()\n",
    "    ax1.xaxis.set_minor_locator(minorLocator)\n",
    "    ax1.yaxis.set_minor_locator(minorLocator)\n",
    "    ax1.grid(b=True, which='major', linestyle='-')\n",
    "    ax1.grid(b=True, which='minor', linestyle='--')\n",
    "   \n",
    "    ax1.set_ylabel(\"Good labelling proportion (%)\")\n",
    "    l1, = ax1.plot(x, y1, 'b', label=\"Measured Errors\")\n",
    "\n",
    "    legend1 = plt.legend([l1], [\"Measured Errors\"], loc=1)\n",
    "    \n",
    "    ax2 = ax1.twinx()\n",
    "    ax2.set_ylabel('Number of Nodes')\n",
    "    ax2.set_yscale(\"log\")\n",
    "    \n",
    "    l2, = ax2.plot(x, y2, 'c--', label=\"Total Unknown Label\")\n",
    "    l3, = ax2.plot(x, y3, 'g--', label=\"Total Good Label\")\n",
    "    l4, = ax2.plot(x, y4, 'r--', label=\"Total Bad Label\")\n",
    "    l5, = ax2.plot(x, y5, 'k--', label=\"Total Label\")\n",
    "    \n",
    "    plt.xlabel(\"Labelized Nodes (%)\")\n",
    "    plt.title(\"Result analysis\")\n",
    "    plt.legend([l2, l3, l4, l5], [\"Total Unknown Label\", \"Total Good Label\", \"Total Bad Label\", \"Total Label\"],  loc=3)\n",
    "    if file_name:\n",
    "        plt.savefig('fig/{}.png'.format(file_name)) \n",
    "    plt.show()"
   ]
  },
  {
   "cell_type": "code",
   "execution_count": null,
   "metadata": {
    "ExecuteTime": {
     "start_time": "2018-01-21T23:44:02.001Z"
    },
    "run_control": {
     "marked": true
    }
   },
   "outputs": [],
   "source": [
    "print_error_graph(error, \"satcat_error_graph\")"
   ]
  },
  {
   "cell_type": "markdown",
   "metadata": {},
   "source": [
    "We can see that we obtain very few errors even with low fraction of labelized node.\n",
    "From around 10% of labels we are above 90% and from around 20% of labels we are above 95%\n",
    "\n",
    "This is a solid result and shows that in this context the clustering methodology we used was efficient."
   ]
  },
  {
   "cell_type": "markdown",
   "metadata": {},
   "source": [
    "### Do analysis with different satellites\n"
   ]
  },
  {
   "cell_type": "markdown",
   "metadata": {},
   "source": [
    "We programmed the project for any number of launch sites, but tested it with only two.\n",
    "\n",
    "What would be the results with a more complex sites of satellites?\n",
    "\n",
    "Lets try to find out by using the helper function we defined all along the project with different parameters."
   ]
  },
  {
   "cell_type": "markdown",
   "metadata": {},
   "source": [
    "#### Use previous parameters"
   ]
  },
  {
   "cell_type": "code",
   "execution_count": null,
   "metadata": {
    "ExecuteTime": {
     "start_time": "2018-01-21T23:44:02.472Z"
    }
   },
   "outputs": [],
   "source": [
    "# REDUCE DATAFRAME PARAMETERS\n",
    "REDUCE_PER_PERCENTILE = False # Reduction per percentile didn't work as expected\n",
    "REDUCE_PER_LAUNCH_SITE = True # Attempt to segment by country: there might be reasons for using particular sites\n",
    "TARGET_PERCENTILE_LAUNCH_SITES = 90\n",
    "TARGET_PERCENTILE_SOURCES = 90\n",
    "LAUNCH_SITES = [\"AFETR\", \"AFWTR\"]\n",
    "ONLY_PAYLOAD=True\n",
    "ONLY_OPERATIONAL=False\n",
    "SIZE_OF_SMALLEST_CLIQUE = 20\n",
    "\n",
    "result_dict_normal_param = calculate_all_values(satcat_df,\n",
    "                         get_feature_dataframe,\n",
    "                         REDUCE_PER_PERCENTILE,\n",
    "                         REDUCE_PER_LAUNCH_SITE,\n",
    "                         TARGET_PERCENTILE_LAUNCH_SITES,\n",
    "                         TARGET_PERCENTILE_SOURCES,\n",
    "                         LAUNCH_SITES,\n",
    "                         ONLY_PAYLOAD,\n",
    "                         ONLY_OPERATIONAL,\n",
    "                         SIZE_OF_SMALLEST_CLIQUE\n",
    "                        )\n",
    "error_normal_param = calculate_error(result_dict_normal_param[\"reduced_satcat_df\"],\n",
    "                                     result_dict_normal_param[\"subgraphs\"])\n"
   ]
  },
  {
   "cell_type": "code",
   "execution_count": null,
   "metadata": {
    "collapsed": true
   },
   "outputs": [],
   "source": []
  },
  {
   "cell_type": "markdown",
   "metadata": {},
   "source": [
    "#### Use percentile of launch sites"
   ]
  },
  {
   "cell_type": "code",
   "execution_count": null,
   "metadata": {
    "ExecuteTime": {
     "start_time": "2018-01-21T23:44:02.481Z"
    },
    "collapsed": true
   },
   "outputs": [],
   "source": [
    "REDUCE_PER_PERCENTILE = True\n",
    "REDUCE_PER_LAUNCH_SITE = False\n",
    "TARGET_PERCENTILE_LAUNCH_SITES = 80\n",
    "TARGET_PERCENTILE_SOURCES = 0\n",
    "\n",
    "result_dict_launch_sites_perc = calculate_all_values(satcat_df,\n",
    "                         REDUCE_PER_PERCENTILE,\n",
    "                         REDUCE_PER_LAUNCH_SITE,\n",
    "                         TARGET_PERCENTILE_LAUNCH_SITES,\n",
    "                         TARGET_PERCENTILE_SOURCES,\n",
    "                         LAUNCH_SITES,\n",
    "                         ONLY_PAYLOAD,\n",
    "                         ONLY_OPERATIONAL,\n",
    "                         SIZE_OF_SMALLEST_CLIQUE\n",
    "                        )\n",
    "error_launch_sites_perc = calculate_error(result_dict_launch_sites_perc[\"reduced_satcat_df\"],\n",
    "                                     result_dict_launch_sites_perc[\"subgraphs\"])"
   ]
  },
  {
   "cell_type": "markdown",
   "metadata": {},
   "source": [
    "#### Use more launch sites "
   ]
  },
  {
   "cell_type": "code",
   "execution_count": null,
   "metadata": {
    "ExecuteTime": {
     "start_time": "2018-01-21T23:44:02.493Z"
    }
   },
   "outputs": [],
   "source": [
    "# Use top 10 sites with the most launches\n",
    "launches_per_site.head(10)"
   ]
  },
  {
   "cell_type": "code",
   "execution_count": null,
   "metadata": {
    "ExecuteTime": {
     "start_time": "2018-01-21T23:44:02.499Z"
    },
    "collapsed": true
   },
   "outputs": [],
   "source": [
    "REDUCE_PER_PERCENTILE = False\n",
    "REDUCE_PER_LAUNCH_SITE = True\n",
    "LAUNCH_SITES = [\"AFETR\", \"AFWTR\", \"TYMSC\", \"PLMSC\", \"TAISC\", \"FRGUI\", \"SRILR\", \"XICLF\", \"JSC\", \"KYMSC\"]\n",
    "\n",
    "result_dict_many_launch_sites = calculate_all_values(satcat_df,\n",
    "                         REDUCE_PER_PERCENTILE,\n",
    "                         REDUCE_PER_LAUNCH_SITE,\n",
    "                         TARGET_PERCENTILE_LAUNCH_SITES,\n",
    "                         TARGET_PERCENTILE_SOURCES,\n",
    "                         LAUNCH_SITES,\n",
    "                         ONLY_PAYLOAD,\n",
    "                         ONLY_OPERATIONAL,\n",
    "                         SIZE_OF_SMALLEST_CLIQUE\n",
    "                        )\n",
    "error_many_launch_sites = calculate_error(result_dict_many_launch_sites[\"reduced_satcat_df\"],\n",
    "                                     result_dict_many_launch_sites[\"subgraphs\"])"
   ]
  },
  {
   "cell_type": "markdown",
   "metadata": {},
   "source": [
    "#### Use all satellites "
   ]
  },
  {
   "cell_type": "code",
   "execution_count": null,
   "metadata": {
    "ExecuteTime": {
     "start_time": "2018-01-21T23:44:02.505Z"
    },
    "collapsed": true
   },
   "outputs": [],
   "source": [
    "# REDUCE DATAFRAME PARAMETERS\n",
    "REDUCE_PER_PERCENTILE = True # Reduction per percentile didn't work as expected\n",
    "REDUCE_PER_LAUNCH_SITE = False # Attempt to segment by country: there might be reasons for using particular sites\n",
    "TARGET_PERCENTILE_LAUNCH_SITES = 0\n",
    "TARGET_PERCENTILE_SOURCES = 0\n",
    "LAUNCH_SITES = [\"AFETR\", \"AFWTR\"]\n",
    "ONLY_PAYLOAD=True\n",
    "ONLY_OPERATIONAL=False\n",
    "SIZE_OF_SMALLEST_CLIQUE = 20\n",
    "\n",
    "result_dict_all_sats = calculate_all_values(satcat_df,\n",
    "                         get_feature_dataframe,\n",
    "                         REDUCE_PER_PERCENTILE,\n",
    "                         REDUCE_PER_LAUNCH_SITE,\n",
    "                         TARGET_PERCENTILE_LAUNCH_SITES,\n",
    "                         TARGET_PERCENTILE_SOURCES,\n",
    "                         LAUNCH_SITES,\n",
    "                         ONLY_PAYLOAD,\n",
    "                         ONLY_OPERATIONAL,\n",
    "                         SIZE_OF_SMALLEST_CLIQUE\n",
    "                        )\n",
    "error_all_sats = calculate_error(result_dict_all_sats[\"reduced_satcat_df\"],\n",
    "                                     result_dict_all_sats[\"subgraphs\"])\n"
   ]
  }
 ],
 "metadata": {
  "kernelspec": {
   "display_name": "Python [default]",
   "language": "python",
   "name": "python3"
  },
  "language_info": {
   "codemirror_mode": {
    "name": "ipython",
    "version": 3
   },
   "file_extension": ".py",
   "mimetype": "text/x-python",
   "name": "python",
   "nbconvert_exporter": "python",
   "pygments_lexer": "ipython3",
   "version": "3.6.2"
  },
  "toc": {
   "nav_menu": {},
   "number_sections": true,
   "sideBar": true,
   "skip_h1_title": false,
   "toc_cell": false,
   "toc_position": {},
   "toc_section_display": "none",
   "toc_window_display": false
  },
  "varInspector": {
   "cols": {
    "lenName": 16,
    "lenType": 16,
    "lenVar": 40
   },
   "kernels_config": {
    "python": {
     "delete_cmd_postfix": "",
     "delete_cmd_prefix": "del ",
     "library": "var_list.py",
     "varRefreshCmd": "print(var_dic_list())"
    },
    "r": {
     "delete_cmd_postfix": ") ",
     "delete_cmd_prefix": "rm(",
     "library": "var_list.r",
     "varRefreshCmd": "cat(var_dic_list()) "
    }
   },
   "types_to_exclude": [
    "module",
    "function",
    "builtin_function_or_method",
    "instance",
    "_Feature"
   ],
   "window_display": false
  }
 },
 "nbformat": 4,
 "nbformat_minor": 2
}
